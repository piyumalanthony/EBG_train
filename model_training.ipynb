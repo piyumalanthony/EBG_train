{
 "cells": [
  {
   "cell_type": "code",
   "execution_count": 4,
   "id": "initial_id",
   "metadata": {
    "collapsed": true,
    "ExecuteTime": {
     "end_time": "2024-04-02T04:54:37.362794Z",
     "start_time": "2024-04-02T04:54:37.359226Z"
    }
   },
   "outputs": [],
   "source": [
    "import math\n",
    "import random\n",
    "import lightgbm as lgb\n",
    "import os\n",
    "import pickle\n",
    "import optuna\n",
    "import numpy as np\n",
    "import pandas as pd\n",
    "from statistics import mean\n",
    "from sklearn.feature_selection import RFE\n",
    "from sklearn.ensemble import RandomForestRegressor\n",
    "from sklearn.metrics import mean_squared_error, r2_score, mean_absolute_error, median_absolute_error\n",
    "from sklearn.model_selection import GroupKFold"
   ]
  },
  {
   "cell_type": "code",
   "outputs": [],
   "source": [
    "def quantile_loss(y_true, y_pred, quantile):\n",
    "    \"\"\"\n",
    "    Computes the quantile loss.\n",
    "\n",
    "    Parameters\n",
    "    ----------\n",
    "    y_true : np.ndarray\n",
    "        Ground truth values\n",
    "\n",
    "    y_pred : np.ndarray\n",
    "        Prediction values\n",
    "\n",
    "    quantile : float in [0,1]\n",
    "        Quantile, e.g. 0.5 for the median quantile\n",
    "    \"\"\"\n",
    "    residual = y_true - y_pred\n",
    "    return mean(np.maximum(quantile * residual, (quantile - 1) * residual))\n",
    "\n",
    "\n",
    "def MBE(y_true, y_pred):\n",
    "    \"\"\"\n",
    "    Computes Mean Bias Error (MBE)\n",
    "\n",
    "    Parameters\n",
    "    ----------\n",
    "    y_true : np.ndarray\n",
    "        Ground truth values\n",
    "\n",
    "    y_pred : np.ndarray\n",
    "        Prediction values\n",
    "    \"\"\"\n",
    "    y_true = np.array(y_true)\n",
    "    y_pred = np.array(y_pred)\n",
    "    y_true = y_true.reshape(len(y_true), 1)\n",
    "    y_pred = y_pred.reshape(len(y_pred), 1)\n",
    "    diff = (y_true - y_pred)\n",
    "    mbe = diff.mean()\n",
    "    return mbe"
   ],
   "metadata": {
    "collapsed": false,
    "ExecuteTime": {
     "end_time": "2024-04-02T04:54:37.825653Z",
     "start_time": "2024-04-02T04:54:37.821685Z"
    }
   },
   "id": "6c89c1571395fe7e",
   "execution_count": 5
  },
  {
   "cell_type": "code",
   "outputs": [],
   "source": [
    "df = pd.read_csv(os.path.join(\"./final.csv\"),\n",
    "                     usecols=lambda column: column != 'Unnamed: 0')\n",
    "\n",
    "df.fillna(-1, inplace=True)\n",
    "df.replace([np.inf, -np.inf], -1, inplace=True)\n",
    "\n",
    "print(\"Median Support: \")\n",
    "print(df[\"support\"].median())\n",
    "df.columns = df.columns.str.replace(':', '_')\n",
    "df[\"group\"] = df['dataset'].astype('category').cat.codes.tolist()\n",
    "\n",
    "target = \"support\"\n",
    "sample_dfs = random.sample(df[\"group\"].unique().tolist(), int(len(df[\"group\"].unique().tolist()) * 0.2))\n",
    "test = df[df['group'].isin(sample_dfs)]\n",
    "train = df[~df['group'].isin(sample_dfs)]\n",
    "\n",
    "X_train = train.drop(axis=1, columns=target)\n",
    "y_train = train[target]\n",
    "\n",
    "X_test = test.drop(axis=1, columns=target)\n",
    "y_test = test[target]"
   ],
   "metadata": {
    "collapsed": false
   },
   "id": "10233f2eb43bf1ef"
  },
  {
   "cell_type": "code",
   "outputs": [],
   "source": [
    "mse_zero = mean_squared_error(y_test, np.zeros(len(y_test)))\n",
    "rmse_zero = math.sqrt(mse_zero)\n",
    "print(\"Baseline prediting 0 RMSE: \" + str(rmse_zero))\n",
    "\n",
    "mse_mean = mean_squared_error(y_test, np.zeros(len(y_test)) + mean(y_train))\n",
    "rmse_mean = math.sqrt(mse_mean)\n",
    "print(\"Baseline predicting mean RMSE: \" + str(rmse_mean))\n",
    "\n",
    "mse_baseline = mean_squared_error(y_test, X_test[\"parsimony_bootstrap_support\"])\n",
    "rmse_baseline = mean_squared_error(y_test, X_test[\"parsimony_bootstrap_support\"], squared=False)\n",
    "mbe_baseline = MBE(y_test, X_test[\"parsimony_bootstrap_support\"])\n",
    "mae_baseline = mean_absolute_error(y_test, X_test[\"parsimony_bootstrap_support\"])\n",
    "mdae_baseline = median_absolute_error(y_test, X_test[\"parsimony_bootstrap_support\"])\n",
    "\n",
    "print(\"MSE (Mean Squared Error):\", mse_baseline)\n",
    "print(\"RMSE (Root Mean Squared Error):\", rmse_baseline)\n",
    "print(\"MBE :\", mbe_baseline)\n",
    "print(\"MAE (Mean Absolute Error):\", mae_baseline)\n",
    "print(\"MdAE (Median Absolute Error):\", mdae_baseline)"
   ],
   "metadata": {
    "collapsed": false
   },
   "id": "58d023495b610925"
  },
  {
   "cell_type": "markdown",
   "source": [
    "Random forest regressor"
   ],
   "metadata": {
    "collapsed": false
   },
   "id": "baf72130901a9ce4"
  },
  {
   "cell_type": "code",
   "outputs": [],
   "source": [
    "rfe_feature_n=20\n",
    "model = RandomForestRegressor(n_jobs=-1, n_estimators=250, max_depth=10, min_samples_split=20,\n",
    "                                      min_samples_leaf=10)\n",
    "rfe = RFE(estimator=model, n_features_to_select=rfe_feature_n)  # Adjust the number of features as needed\n",
    "rfe.fit(X_train.drop(axis=1, columns=['dataset', 'branchId', 'group']), y_train)\n",
    "print(rfe.support_)\n",
    "selected_features = X_train.drop(axis=1, columns=['dataset', 'branchId', 'group']).columns[rfe.support_]\n",
    "selected_features = selected_features.append(pd.Index(['group']))\n",
    "\n",
    "print(\"Selected features for RFE: \")\n",
    "print(selected_features)\n",
    "X_train = X_train[selected_features]\n",
    "X_test = X_test[selected_features]"
   ],
   "metadata": {
    "collapsed": false
   },
   "id": "a298cacfd3649fd0"
  }
 ],
 "metadata": {
  "kernelspec": {
   "display_name": "Python 3",
   "language": "python",
   "name": "python3"
  },
  "language_info": {
   "codemirror_mode": {
    "name": "ipython",
    "version": 2
   },
   "file_extension": ".py",
   "mimetype": "text/x-python",
   "name": "python",
   "nbconvert_exporter": "python",
   "pygments_lexer": "ipython2",
   "version": "2.7.6"
  }
 },
 "nbformat": 4,
 "nbformat_minor": 5
}
