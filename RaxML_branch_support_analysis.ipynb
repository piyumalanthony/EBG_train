{
 "cells": [
  {
   "cell_type": "code",
   "id": "initial_id",
   "metadata": {
    "collapsed": true,
    "ExecuteTime": {
     "end_time": "2024-04-08T15:33:04.399086Z",
     "start_time": "2024-04-08T15:33:04.022732Z"
    }
   },
   "source": "from ete3 import Tree",
   "outputs": [],
   "execution_count": 3
  },
  {
   "metadata": {
    "ExecuteTime": {
     "end_time": "2024-04-08T06:39:22.376945Z",
     "start_time": "2024-04-08T06:39:22.374743Z"
    }
   },
   "cell_type": "code",
   "source": "tree_str = \"((((taxon8:0.000001,(taxon17:0.000001,taxon28:0.000001)80:0.000001)73:0.007635,taxon32:0.000001)75:0.000001,taxon35:0.032085)68:0.016431,(taxon50:0.000001,taxon48:0.000001)87:0.033560,taxon38:0.000001);\"",
   "id": "87d76e7e17c5a029",
   "outputs": [],
   "execution_count": 2
  },
  {
   "metadata": {
    "ExecuteTime": {
     "end_time": "2024-04-08T06:40:11.610021Z",
     "start_time": "2024-04-08T06:40:11.606165Z"
    }
   },
   "cell_type": "code",
   "source": "phylo_tree = Tree(tree_str)",
   "id": "9bac05c46964421e",
   "outputs": [],
   "execution_count": 3
  },
  {
   "metadata": {
    "ExecuteTime": {
     "end_time": "2024-04-08T06:41:33.162546Z",
     "start_time": "2024-04-08T06:41:33.159693Z"
    }
   },
   "cell_type": "code",
   "source": [
    "branch_id_counter = 0\n",
    "for node in phylo_tree.traverse():\n",
    "    branch_id_counter += 1\n",
    "    if node.support is not None and not node.is_leaf():\n",
    "        print(branch_id_counter, \":\", node.support/100)"
   ],
   "id": "5aa110beb07d6792",
   "outputs": [
    {
     "name": "stdout",
     "output_type": "stream",
     "text": [
      "1 : 0.01\n",
      "2 : 0.68\n",
      "3 : 0.87\n",
      "5 : 0.75\n",
      "9 : 0.73\n",
      "12 : 0.8\n"
     ]
    }
   ],
   "execution_count": 4
  },
  {
   "metadata": {
    "ExecuteTime": {
     "end_time": "2024-04-08T06:44:17.771237Z",
     "start_time": "2024-04-08T06:44:17.769175Z"
    }
   },
   "cell_type": "code",
   "source": "tree_str2 = \"((((taxon8:0.0000010000,(taxon17:0.0000010000,taxon28:0.0000010000)92:0.0000010000)81:0.0076350000,taxon32:0.0000010000)31:0.0000010000,taxon35:0.0320850000)4:0.0164310000,(taxon50:0.0000010000,taxon48:0.0000010000)89:0.0335600000,taxon38:0.0000010000);\"",
   "id": "ec0e4d72e053fa3",
   "outputs": [],
   "execution_count": 5
  },
  {
   "metadata": {
    "ExecuteTime": {
     "end_time": "2024-04-08T06:44:34.798358Z",
     "start_time": "2024-04-08T06:44:34.795890Z"
    }
   },
   "cell_type": "code",
   "source": "phylo_tree_2 = Tree(tree_str2)",
   "id": "bd127df94b378e7a",
   "outputs": [],
   "execution_count": 7
  },
  {
   "metadata": {
    "ExecuteTime": {
     "end_time": "2024-04-08T06:44:46.226889Z",
     "start_time": "2024-04-08T06:44:46.222785Z"
    }
   },
   "cell_type": "code",
   "source": [
    "branch_id_counter = 0\n",
    "for node in phylo_tree_2.traverse():\n",
    "    branch_id_counter += 1\n",
    "    if node.support is not None and not node.is_leaf():\n",
    "        print(branch_id_counter, \":\", node.support/100)"
   ],
   "id": "58bc931568f1181c",
   "outputs": [
    {
     "name": "stdout",
     "output_type": "stream",
     "text": [
      "1 : 0.01\n",
      "2 : 0.04\n",
      "3 : 0.89\n",
      "5 : 0.31\n",
      "9 : 0.81\n",
      "12 : 0.92\n"
     ]
    }
   ],
   "execution_count": 8
  },
  {
   "metadata": {
    "ExecuteTime": {
     "end_time": "2024-04-08T06:52:47.841326Z",
     "start_time": "2024-04-08T06:52:47.838877Z"
    }
   },
   "cell_type": "code",
   "source": "tree_str3 = \"((((taxon8:0.0000010000,(taxon17:0.0000010000,taxon28:0.0000010000)0.92:0.0000010000)0.82:0.0076350000,taxon32:0.0000010000)0.3:0.0000010000,taxon35:0.0320850000)0.04:0.0164310000,(taxon50:0.0000010000,taxon48:0.0000010000)0.89:0.0335600000,taxon38:0.0000010000);\"",
   "id": "e233a303f04b084b",
   "outputs": [],
   "execution_count": 9
  },
  {
   "metadata": {
    "ExecuteTime": {
     "end_time": "2024-04-08T06:53:01.173983Z",
     "start_time": "2024-04-08T06:53:01.171631Z"
    }
   },
   "cell_type": "code",
   "source": "phylo_tree_3 = Tree(tree_str3)",
   "id": "22d8ca6ef7920632",
   "outputs": [],
   "execution_count": 10
  },
  {
   "metadata": {
    "ExecuteTime": {
     "end_time": "2024-04-08T06:53:13.686427Z",
     "start_time": "2024-04-08T06:53:13.683098Z"
    }
   },
   "cell_type": "code",
   "source": [
    "branch_id_counter = 0\n",
    "for node in phylo_tree_3.traverse():\n",
    "    branch_id_counter += 1\n",
    "    if node.support is not None and not node.is_leaf():\n",
    "        print(branch_id_counter, \":\", node.support/100)"
   ],
   "id": "89dfcc1c90c35d2f",
   "outputs": [
    {
     "name": "stdout",
     "output_type": "stream",
     "text": [
      "1 : 0.01\n",
      "2 : 0.0004\n",
      "3 : 0.0089\n",
      "5 : 0.003\n",
      "9 : 0.008199999999999999\n",
      "12 : 0.0092\n"
     ]
    }
   ],
   "execution_count": 11
  },
  {
   "metadata": {
    "ExecuteTime": {
     "end_time": "2024-04-08T15:32:46.637667Z",
     "start_time": "2024-04-08T15:32:46.633074Z"
    }
   },
   "cell_type": "code",
   "source": "tree_str4 = \"((((taxon1:0.0098780000,taxon2:0.0040580000)0.96:0.0034700000,taxon3:0.0031520000)0.99:0.0049510000,taxon4:0.0078810000)1.0:0.0339820000,(((((((taxon5:0.0083690000,taxon6:0.0049810000)0.44:0.0083090000,((taxon7:0.0047120000,(taxon8:0.0266690000,taxon9:0.0000010000)0.27:0.0028770000)0.47:0.0062000000,taxon10:0.0163440000)0.3:0.0034400000)0.29:0.0076780000,taxon11:0.0156840000)0.37:0.0065350000,(taxon12:0.0073820000,(taxon13:0.0092870000,taxon14:0.0053110000)0.91:0.0063150000)0.47:0.0024170000)0.67:0.0131880000,(((taxon15:0.0228160000,taxon16:0.0273070000)0.59:0.0065150000,taxon17:0.0305660000)0.23:0.0086990000,(taxon18:0.0190070000,taxon19:0.0208230000)0.5:0.0036230000)0.35:0.0045360000)0.93:0.0148540000,taxon20:0.0027930000)0.98:0.0132700000,taxon21:0.0304530000)0.99:0.0179470000,(((taxon22:0.0112210000,taxon23:0.0087280000)0.83:0.0059080000,(taxon24:0.0025500000,taxon25:0.0074920000)0.71:0.0033530000)0.79:0.0048590000,(taxon26:0.0188970000,taxon27:0.0052120000)1.0:0.0256970000)0.84:0.0144020000);\"",
   "id": "706bb508efb4605b",
   "outputs": [],
   "execution_count": 1
  },
  {
   "metadata": {
    "ExecuteTime": {
     "end_time": "2024-04-08T15:33:07.513791Z",
     "start_time": "2024-04-08T15:33:07.509252Z"
    }
   },
   "cell_type": "code",
   "source": "phylo_tree_4 = Tree(tree_str4)",
   "id": "527ac8553a4474e6",
   "outputs": [],
   "execution_count": 4
  },
  {
   "metadata": {
    "ExecuteTime": {
     "end_time": "2024-04-08T15:33:17.836452Z",
     "start_time": "2024-04-08T15:33:17.832649Z"
    }
   },
   "cell_type": "code",
   "source": [
    "branch_id_counter = 0\n",
    "for node in phylo_tree_4.traverse():\n",
    "    branch_id_counter += 1\n",
    "    if node.support is not None and not node.is_leaf():\n",
    "        print(branch_id_counter, \":\", node.support/100)"
   ],
   "id": "3bef36ae4059cf09",
   "outputs": [
    {
     "name": "stdout",
     "output_type": "stream",
     "text": [
      "1 : 0.01\n",
      "2 : 0.01\n",
      "3 : 0.009899999999999999\n",
      "4 : 0.0084\n",
      "5 : 0.009899999999999999\n",
      "7 : 0.0098\n",
      "9 : 0.0079\n",
      "10 : 0.01\n",
      "11 : 0.0096\n",
      "13 : 0.009300000000000001\n",
      "15 : 0.0083\n",
      "16 : 0.0070999999999999995\n",
      "21 : 0.0067\n",
      "22 : 0.0034999999999999996\n",
      "27 : 0.0037\n",
      "28 : 0.004699999999999999\n",
      "29 : 0.0023\n",
      "30 : 0.005\n",
      "31 : 0.0029\n",
      "34 : 0.0091\n",
      "35 : 0.0059\n",
      "39 : 0.0044\n",
      "40 : 0.003\n",
      "47 : 0.004699999999999999\n",
      "50 : 0.0027\n"
     ]
    }
   ],
   "execution_count": 5
  },
  {
   "metadata": {},
   "cell_type": "code",
   "outputs": [],
   "execution_count": null,
   "source": "",
   "id": "ff2d791980e86d1d"
  }
 ],
 "metadata": {
  "kernelspec": {
   "display_name": "Python 3",
   "language": "python",
   "name": "python3"
  },
  "language_info": {
   "codemirror_mode": {
    "name": "ipython",
    "version": 2
   },
   "file_extension": ".py",
   "mimetype": "text/x-python",
   "name": "python",
   "nbconvert_exporter": "python",
   "pygments_lexer": "ipython2",
   "version": "2.7.6"
  }
 },
 "nbformat": 4,
 "nbformat_minor": 5
}
