{
 "cells": [
  {
   "cell_type": "code",
   "execution_count": 13,
   "id": "initial_id",
   "metadata": {
    "collapsed": true,
    "ExecuteTime": {
     "end_time": "2024-04-02T04:28:12.826759Z",
     "start_time": "2024-04-02T04:28:12.645014Z"
    }
   },
   "outputs": [],
   "source": [
    "import os\n",
    "import copy\n",
    "from ete3 import Tree\n",
    "import pandas as pd"
   ]
  },
  {
   "cell_type": "code",
   "outputs": [],
   "source": [
    "tree_str1 = \"(((((taxon5:0.0346140000,taxon6:0.0000010000)1/85:0.0177510000,taxon3:0.0000010000)1/59:0.0186600000,(taxon7:0.0236120000,taxon8:0.0152880000)1/52:0.0000010000)1/33:0.0095300000,((taxon9:0.0237180000,taxon10:0.0535320000)1/92:0.0457630000,(taxon11:0.0915130000,(taxon12:0.0364910000,taxon13:0.0332620000)1/26:0.0107520000)1/22:0.0129440000)1/7:0.0023360000)1/8:0.0134700000,(((taxon14:0.0271190000,taxon15:0.0534470000)1/92:0.0451500000,taxon16:0.0371010000)1/59:0.0172700000,taxon17:0.0107160000)1/21:0.0078250000,taxon1:0.0000010000);\""
   ],
   "metadata": {
    "collapsed": false,
    "ExecuteTime": {
     "end_time": "2024-04-02T04:23:52.833959Z",
     "start_time": "2024-04-02T04:23:52.831344Z"
    }
   },
   "id": "db6609803891d396",
   "execution_count": 4
  },
  {
   "cell_type": "code",
   "outputs": [
    {
     "ename": "NewickError",
     "evalue": "Unexpected newick format '1/85:0.0177510000' \nYou may want to check other newick loading flags like 'format' or 'quoted_node_names'.",
     "output_type": "error",
     "traceback": [
      "\u001B[0;31m---------------------------------------------------------------------------\u001B[0m",
      "\u001B[0;31mNewickError\u001B[0m                               Traceback (most recent call last)",
      "Cell \u001B[0;32mIn[5], line 1\u001B[0m\n\u001B[0;32m----> 1\u001B[0m tree \u001B[38;5;241m=\u001B[39m \u001B[43mTree\u001B[49m\u001B[43m(\u001B[49m\u001B[43mtree_str1\u001B[49m\u001B[43m)\u001B[49m\n",
      "File \u001B[0;32m~/PHD/Implementation/MLPhylogenetics/EBG-train/venv/lib/python3.10/site-packages/ete3/coretype/tree.py:212\u001B[0m, in \u001B[0;36mTreeNode.__init__\u001B[0;34m(self, newick, format, dist, support, name, quoted_node_names)\u001B[0m\n\u001B[1;32m    210\u001B[0m \u001B[38;5;28;01mif\u001B[39;00m newick \u001B[38;5;129;01mis\u001B[39;00m \u001B[38;5;129;01mnot\u001B[39;00m \u001B[38;5;28;01mNone\u001B[39;00m:\n\u001B[1;32m    211\u001B[0m     \u001B[38;5;28mself\u001B[39m\u001B[38;5;241m.\u001B[39m_dist \u001B[38;5;241m=\u001B[39m \u001B[38;5;241m0.0\u001B[39m\n\u001B[0;32m--> 212\u001B[0m     \u001B[43mread_newick\u001B[49m\u001B[43m(\u001B[49m\u001B[43mnewick\u001B[49m\u001B[43m,\u001B[49m\u001B[43m \u001B[49m\u001B[43mroot_node\u001B[49m\u001B[43m \u001B[49m\u001B[38;5;241;43m=\u001B[39;49m\u001B[43m \u001B[49m\u001B[38;5;28;43mself\u001B[39;49m\u001B[43m,\u001B[49m\u001B[43m \u001B[49m\u001B[38;5;28;43mformat\u001B[39;49m\u001B[38;5;241;43m=\u001B[39;49m\u001B[38;5;28;43mformat\u001B[39;49m\u001B[43m,\u001B[49m\n\u001B[1;32m    213\u001B[0m \u001B[43m                \u001B[49m\u001B[43mquoted_names\u001B[49m\u001B[38;5;241;43m=\u001B[39;49m\u001B[43mquoted_node_names\u001B[49m\u001B[43m)\u001B[49m\n",
      "File \u001B[0;32m~/PHD/Implementation/MLPhylogenetics/EBG-train/venv/lib/python3.10/site-packages/ete3/parser/newick.py:266\u001B[0m, in \u001B[0;36mread_newick\u001B[0;34m(newick, root_node, format, quoted_names)\u001B[0m\n\u001B[1;32m    264\u001B[0m         \u001B[38;5;28;01mraise\u001B[39;00m NewickError(\u001B[38;5;124m'\u001B[39m\u001B[38;5;124mUnexisting tree file or Malformed newick tree structure.\u001B[39m\u001B[38;5;124m'\u001B[39m)\n\u001B[1;32m    265\u001B[0m     \u001B[38;5;28;01melse\u001B[39;00m:\n\u001B[0;32m--> 266\u001B[0m         \u001B[38;5;28;01mreturn\u001B[39;00m \u001B[43m_read_newick_from_string\u001B[49m\u001B[43m(\u001B[49m\u001B[43mnw\u001B[49m\u001B[43m,\u001B[49m\u001B[43m \u001B[49m\u001B[43mroot_node\u001B[49m\u001B[43m,\u001B[49m\u001B[43m \u001B[49m\u001B[43mmatcher\u001B[49m\u001B[43m,\u001B[49m\u001B[43m \u001B[49m\u001B[38;5;28;43mformat\u001B[39;49m\u001B[43m,\u001B[49m\u001B[43m \u001B[49m\u001B[43mquoted_names\u001B[49m\u001B[43m)\u001B[49m\n\u001B[1;32m    268\u001B[0m \u001B[38;5;28;01melse\u001B[39;00m:\n\u001B[1;32m    269\u001B[0m     \u001B[38;5;28;01mraise\u001B[39;00m NewickError(\u001B[38;5;124m\"\u001B[39m\u001B[38;5;124m'\u001B[39m\u001B[38;5;124mnewick\u001B[39m\u001B[38;5;124m'\u001B[39m\u001B[38;5;124m argument must be either a filename or a newick string.\u001B[39m\u001B[38;5;124m\"\u001B[39m)\n",
      "File \u001B[0;32m~/PHD/Implementation/MLPhylogenetics/EBG-train/venv/lib/python3.10/site-packages/ete3/parser/newick.py:341\u001B[0m, in \u001B[0;36m_read_newick_from_string\u001B[0;34m(nw, root_node, matcher, formatcode, quoted_names)\u001B[0m\n\u001B[1;32m    339\u001B[0m                 closing_internal \u001B[38;5;241m=\u001B[39m  closing_internal\u001B[38;5;241m.\u001B[39mrstrip(\u001B[38;5;124m\"\u001B[39m\u001B[38;5;124m;\u001B[39m\u001B[38;5;124m\"\u001B[39m)\n\u001B[1;32m    340\u001B[0m                 \u001B[38;5;66;03m# read internal node data and go up one level\u001B[39;00m\n\u001B[0;32m--> 341\u001B[0m                 \u001B[43m_read_node_data\u001B[49m\u001B[43m(\u001B[49m\u001B[43mclosing_internal\u001B[49m\u001B[43m,\u001B[49m\u001B[43m \u001B[49m\u001B[43mcurrent_parent\u001B[49m\u001B[43m,\u001B[49m\u001B[43m \u001B[49m\u001B[38;5;124;43m\"\u001B[39;49m\u001B[38;5;124;43minternal\u001B[39;49m\u001B[38;5;124;43m\"\u001B[39;49m\u001B[43m,\u001B[49m\u001B[43m \u001B[49m\u001B[43mmatcher\u001B[49m\u001B[43m,\u001B[49m\u001B[43m \u001B[49m\u001B[43mformatcode\u001B[49m\u001B[43m)\u001B[49m\n\u001B[1;32m    342\u001B[0m                 current_parent \u001B[38;5;241m=\u001B[39m current_parent\u001B[38;5;241m.\u001B[39mup\n\u001B[1;32m    344\u001B[0m \u001B[38;5;66;03m# references in node names are replaced with quoted text before returning\u001B[39;00m\n",
      "File \u001B[0;32m~/PHD/Implementation/MLPhylogenetics/EBG-train/venv/lib/python3.10/site-packages/ete3/parser/newick.py:445\u001B[0m, in \u001B[0;36m_read_node_data\u001B[0;34m(subnw, current_node, node_type, matcher, formatcode)\u001B[0m\n\u001B[1;32m    443\u001B[0m         _parse_extra_features(node, data[\u001B[38;5;241m2\u001B[39m])\n\u001B[1;32m    444\u001B[0m \u001B[38;5;28;01melse\u001B[39;00m:\n\u001B[0;32m--> 445\u001B[0m     \u001B[38;5;28;01mraise\u001B[39;00m NewickError(\u001B[38;5;124m\"\u001B[39m\u001B[38;5;124mUnexpected newick format \u001B[39m\u001B[38;5;124m'\u001B[39m\u001B[38;5;132;01m%s\u001B[39;00m\u001B[38;5;124m'\u001B[39m\u001B[38;5;124m \u001B[39m\u001B[38;5;124m\"\u001B[39m \u001B[38;5;241m%\u001B[39msubnw[\u001B[38;5;241m0\u001B[39m:\u001B[38;5;241m50\u001B[39m])\n\u001B[1;32m    446\u001B[0m \u001B[38;5;28;01mreturn\u001B[39;00m\n",
      "\u001B[0;31mNewickError\u001B[0m: Unexpected newick format '1/85:0.0177510000' \nYou may want to check other newick loading flags like 'format' or 'quoted_node_names'."
     ]
    }
   ],
   "source": [
    "tree = Tree(tree_str1)"
   ],
   "metadata": {
    "collapsed": false,
    "ExecuteTime": {
     "end_time": "2024-04-02T04:23:57.461672Z",
     "start_time": "2024-04-02T04:23:57.404724Z"
    }
   },
   "id": "545df7b807931871",
   "execution_count": 5
  },
  {
   "cell_type": "code",
   "outputs": [
    {
     "name": "stdout",
     "output_type": "stream",
     "text": [
      "['1', '/', '8', '5']\n",
      "['1', '/', '5', '9']\n",
      "['1', '/', '5', '2']\n",
      "['1', '/', '3', '3']\n",
      "['1', '/', '9', '2']\n",
      "['1', '/', '2', '6']\n",
      "['1', '/', '2', '2']\n",
      "['1', '/', '7']\n",
      "['1', '/', '8']\n",
      "['1', '/', '9', '2']\n",
      "['1', '/', '5', '9']\n",
      "['1', '/', '2', '1']\n",
      "['(', '(', '(', '(', '(', 't', 'a', 'x', 'o', 'n', '5', ':', '0', '.', '0', '3', '4', '6', '1', '4', '0', '0', '0', '0', ',', 't', 'a', 'x', 'o', 'n', '6', ':', '0', '.', '0', '0', '0', '0', '0', '1', '0', '0', '0', '0', ')', '0.85', ':', '0', '.', '0', '1', '7', '7', '5', '1', '0', '0', '0', '0', ',', 't', 'a', 'x', 'o', 'n', '3', ':', '0', '.', '0', '0', '0', '0', '0', '1', '0', '0', '0', '0', ')', '0.59', ':', '0', '.', '0', '1', '8', '6', '6', '0', '0', '0', '0', '0', ',', '(', 't', 'a', 'x', 'o', 'n', '7', ':', '0', '.', '0', '2', '3', '6', '1', '2', '0', '0', '0', '0', ',', 't', 'a', 'x', 'o', 'n', '8', ':', '0', '.', '0', '1', '5', '2', '8', '8', '0', '0', '0', '0', ')', '0.52', ':', '0', '.', '0', '0', '0', '0', '0', '1', '0', '0', '0', '0', ')', '0.33', ':', '0', '.', '0', '0', '9', '5', '3', '0', '0', '0', '0', '0', ',', '(', '(', 't', 'a', 'x', 'o', 'n', '9', ':', '0', '.', '0', '2', '3', '7', '1', '8', '0', '0', '0', '0', ',', 't', 'a', 'x', 'o', 'n', '1', '0', ':', '0', '.', '0', '5', '3', '5', '3', '2', '0', '0', '0', '0', ')', '0.92', ':', '0', '.', '0', '4', '5', '7', '6', '3', '0', '0', '0', '0', ',', '(', 't', 'a', 'x', 'o', 'n', '1', '1', ':', '0', '.', '0', '9', '1', '5', '1', '3', '0', '0', '0', '0', ',', '(', 't', 'a', 'x', 'o', 'n', '1', '2', ':', '0', '.', '0', '3', '6', '4', '9', '1', '0', '0', '0', '0', ',', 't', 'a', 'x', 'o', 'n', '1', '3', ':', '0', '.', '0', '3', '3', '2', '6', '2', '0', '0', '0', '0', ')', '0.26', ':', '0', '.', '0', '1', '0', '7', '5', '2', '0', '0', '0', '0', ')', '0.22', ':', '0', '.', '0', '1', '2', '9', '4', '4', '0', '0', '0', '0', ')', '0.07', ':', '0', '.', '0', '0', '2', '3', '3', '6', '0', '0', '0', '0', ')', '0.08', ':', '0', '.', '0', '1', '3', '4', '7', '0', '0', '0', '0', '0', ',', '(', '(', '(', 't', 'a', 'x', 'o', 'n', '1', '4', ':', '0', '.', '0', '2', '7', '1', '1', '9', '0', '0', '0', '0', ',', 't', 'a', 'x', 'o', 'n', '1', '5', ':', '0', '.', '0', '5', '3', '4', '4', '7', '0', '0', '0', '0', ')', '0.92', ':', '0', '.', '0', '4', '5', '1', '5', '0', '0', '0', '0', '0', ',', 't', 'a', 'x', 'o', 'n', '1', '6', ':', '0', '.', '0', '3', '7', '1', '0', '1', '0', '0', '0', '0', ')', '0.59', ':', '0', '.', '0', '1', '7', '2', '7', '0', '0', '0', '0', '0', ',', 't', 'a', 'x', 'o', 'n', '1', '7', ':', '0', '.', '0', '1', '0', '7', '1', '6', '0', '0', '0', '0', ')', '0.21', ':', '0', '.', '0', '0', '7', '8', '2', '5', '0', '0', '0', '0', ',', 't', 'a', 'x', 'o', 'n', '1', ':', '0', '.', '0', '0', '0', '0', '0', '1', '0', '0', '0', '0', ')', ';']\n"
     ]
    }
   ],
   "source": [
    "\n",
    "index = 0\n",
    "tree_data = []\n",
    "while index<len(tree_str1):\n",
    "    local_bs = []\n",
    "    tree_data.append(tree_str1[index])\n",
    "    if tree_str1[index]== \")\" and tree_str1[index+1]!=\";\":\n",
    "        local_index = index+1\n",
    "        while tree_str1[local_index]!= \":\":\n",
    "            local_bs.append(tree_str1[local_index])\n",
    "            local_index +=1\n",
    "        index = local_index\n",
    "        local_index = local_bs.index(\"/\")\n",
    "        a = local_bs[:local_index]\n",
    "        b = local_bs[local_index+1:]\n",
    "        n1 = \"\".join(a)\n",
    "        n2 = \"\".join(b)\n",
    "        n1 = int(n1)\n",
    "        n2 = int(n2)\n",
    "        mpboot_support = n2/100.0\n",
    "        tree_data.append(str(mpboot_support))\n",
    "        tree_data.append(\":\")\n",
    "        print(local_bs)\n",
    "        \n",
    "    index +=1\n",
    "print(tree_data)"
   ],
   "metadata": {
    "collapsed": false,
    "ExecuteTime": {
     "end_time": "2024-04-02T04:25:40.217593Z",
     "start_time": "2024-04-02T04:25:40.212757Z"
    }
   },
   "id": "a4baaf12a651030",
   "execution_count": 9
  },
  {
   "cell_type": "code",
   "outputs": [],
   "source": [
    "tree_revised = \"\".join(tree_data)"
   ],
   "metadata": {
    "collapsed": false,
    "ExecuteTime": {
     "end_time": "2024-04-02T04:26:26.339753Z",
     "start_time": "2024-04-02T04:26:26.337338Z"
    }
   },
   "id": "6d249bfe0281c51e",
   "execution_count": 10
  },
  {
   "cell_type": "code",
   "outputs": [
    {
     "data": {
      "text/plain": "'(((((taxon5:0.0346140000,taxon6:0.0000010000)0.85:0.0177510000,taxon3:0.0000010000)0.59:0.0186600000,(taxon7:0.0236120000,taxon8:0.0152880000)0.52:0.0000010000)0.33:0.0095300000,((taxon9:0.0237180000,taxon10:0.0535320000)0.92:0.0457630000,(taxon11:0.0915130000,(taxon12:0.0364910000,taxon13:0.0332620000)0.26:0.0107520000)0.22:0.0129440000)0.07:0.0023360000)0.08:0.0134700000,(((taxon14:0.0271190000,taxon15:0.0534470000)0.92:0.0451500000,taxon16:0.0371010000)0.59:0.0172700000,taxon17:0.0107160000)0.21:0.0078250000,taxon1:0.0000010000);'"
     },
     "execution_count": 11,
     "metadata": {},
     "output_type": "execute_result"
    }
   ],
   "source": [
    "tree_revised"
   ],
   "metadata": {
    "collapsed": false,
    "ExecuteTime": {
     "end_time": "2024-04-02T04:26:37.444090Z",
     "start_time": "2024-04-02T04:26:37.438388Z"
    }
   },
   "id": "78243c7ff229a7af",
   "execution_count": 11
  },
  {
   "cell_type": "code",
   "outputs": [
    {
     "name": "stdout",
     "output_type": "stream",
     "text": [
      "1 : 1.0\n",
      "2 : 0.08\n",
      "3 : 0.21\n",
      "5 : 0.33\n",
      "6 : 0.07\n",
      "7 : 0.59\n",
      "9 : 0.59\n",
      "10 : 0.52\n",
      "11 : 0.92\n",
      "12 : 0.22\n",
      "13 : 0.92\n",
      "15 : 0.85\n",
      "22 : 0.26\n"
     ]
    }
   ],
   "source": [
    "tree = Tree(tree_revised)\n",
    "\n",
    "branch_id = 0      \n",
    "for node in tree.traverse():\n",
    "    branch_id +=1\n",
    "    if node.support is not None and not node.is_leaf():\n",
    "        print(branch_id, \":\" , node.support)"
   ],
   "metadata": {
    "collapsed": false,
    "ExecuteTime": {
     "end_time": "2024-04-02T04:26:56.109490Z",
     "start_time": "2024-04-02T04:26:56.105467Z"
    }
   },
   "id": "5803bf2d6518cc8c",
   "execution_count": 12
  },
  {
   "cell_type": "code",
   "outputs": [],
   "source": [
    "data_dir = \"/home/piyumal/PHD/BootstrapSupportPrediction/final.csv\""
   ],
   "metadata": {
    "collapsed": false,
    "ExecuteTime": {
     "end_time": "2024-04-02T04:28:36.209277Z",
     "start_time": "2024-04-02T04:28:36.206716Z"
    }
   },
   "id": "4206d464b5b51609",
   "execution_count": 14
  },
  {
   "cell_type": "code",
   "outputs": [],
   "source": [
    "data_df = pd.read_csv(data_dir)"
   ],
   "metadata": {
    "collapsed": false,
    "ExecuteTime": {
     "end_time": "2024-04-02T04:28:51.973530Z",
     "start_time": "2024-04-02T04:28:51.694103Z"
    }
   },
   "id": "5ef03c18ceda789c",
   "execution_count": 15
  },
  {
   "cell_type": "code",
   "outputs": [
    {
     "data": {
      "text/plain": "       Unnamed: 0  branchId  branch_length_ratio_split  \\\n0               0         1                   1.000000   \n1               1         2                   0.973670   \n2               2         7                   0.026302   \n3               3        11                   0.019750   \n4               4        12                   0.933898   \n...           ...       ...                        ...   \n85560       85560        23                   0.148782   \n85561       85561        28                   0.148749   \n85562       85562        30                   0.049436   \n85563       85563        32                   0.024767   \n85564       85564        34                   0.024734   \n\n       mean_closeness_centrality_ratio  parsimony_support  \\\n0                             1.000000               0.01   \n1                             0.257669               0.06   \n2                             0.046723               1.00   \n3                             0.040789               1.00   \n4                             0.006184               0.18   \n...                                ...                ...   \n85560                         0.106783               0.02   \n85561                         0.204262               0.05   \n85562                         0.015988               1.00   \n85563                         0.011802               0.25   \n85564                         0.011799               0.17   \n\n       min_pars_support_children_weighted  max_pars_support_children_weighted  \\\n0                                0.000000                            8.226300   \n1                                0.000002                            0.000012   \n2                                0.000018                            8.226300   \n3                                0.000020                            8.226300   \n4                                0.000018                            0.000100   \n...                                   ...                                 ...   \n85560                            0.000002                            0.151000   \n85561                            0.000005                            0.151000   \n85562                            0.000017                            0.151000   \n85563                            0.000017                            0.000025   \n85564                            0.000017                            0.000017   \n\n       mean_pars_support_parents_weighted  branch_length  norm_branch_length  \\\n0                               -1.000000       0.000000            0.000000   \n1                                0.000000       0.000002            0.000019   \n2                                0.000007       0.000910            0.008605   \n3                                0.030338       0.003710            0.035080   \n4                                0.030338       0.000001            0.000009   \n...                                   ...            ...                 ...   \n85560                            0.023666       0.000001            0.000050   \n85561                            0.020286       0.000001            0.000050   \n85562                            0.017750       0.001510            0.075248   \n85563                            0.032556       0.000001            0.000050   \n85564                            0.029303       0.000001            0.000050   \n\n       ...  min_pars_bootstrap_support_children_w  \\\n0      ...                               0.000000   \n1      ...                               0.000000   \n2      ...                               0.000013   \n3      ...                               0.000013   \n4      ...                               0.000016   \n...    ...                                    ...   \n85560  ...                               0.000000   \n85561  ...                               0.000000   \n85562  ...                               0.000000   \n85563  ...                               0.000000   \n85564  ...                               0.000014   \n\n       max_pars_bootstrap_support_children_w  \\\n0                                   8.226300   \n1                                   0.000000   \n2                                   8.226300   \n3                                   8.226300   \n4                                   0.000066   \n...                                      ...   \n85560                               0.093620   \n85561                               0.093620   \n85562                               0.093620   \n85563                               0.000014   \n85564                               0.000014   \n\n       std_pars_bootstrap_support_children  mean_norm_rf_distance  \\\n0                                36.639799               0.530470   \n1                                 0.000000               0.530470   \n2                                27.695487               0.530470   \n3                                27.375639               0.530470   \n4                                25.000000               0.530470   \n...                                    ...                    ...   \n85560                            23.068593               0.812321   \n85561                            23.932196               0.812321   \n85562                            26.549744               0.812321   \n85563                             7.000000               0.812321   \n85564                            -1.000000               0.812321   \n\n       max_substitution_frequency  mean_substitution_frequency  \\\n0                        0.142857                     0.005826   \n1                        0.142857                     0.005826   \n2                        0.142857                     0.005826   \n3                        0.142857                     0.005826   \n4                        0.142857                     0.005826   \n...                           ...                          ...   \n85560                    0.105263                     0.007428   \n85561                    0.105263                     0.007428   \n85562                    0.105263                     0.007428   \n85563                    0.105263                     0.007428   \n85564                    0.105263                     0.007428   \n\n       cv_substitution_frequency  skw_substitution_frequency  dataset  support  \n0                       2.790572                    3.417270  24992_0     0.01  \n1                       2.790572                    3.417270  24992_0     0.03  \n2                       2.790572                    3.417270  24992_0     0.84  \n3                       2.790572                    3.417270  24992_0     0.99  \n4                       2.790572                    3.417270  24992_0     0.57  \n...                          ...                         ...      ...      ...  \n85560                   2.617083                    2.499561  14433_0     0.02  \n85561                   2.617083                    2.499561  14433_0     0.11  \n85562                   2.617083                    2.499561  14433_0     0.75  \n85563                   2.617083                    2.499561  14433_0     0.31  \n85564                   2.617083                    2.499561  14433_0     0.17  \n\n[85565 rows x 28 columns]",
      "text/html": "<div>\n<style scoped>\n    .dataframe tbody tr th:only-of-type {\n        vertical-align: middle;\n    }\n\n    .dataframe tbody tr th {\n        vertical-align: top;\n    }\n\n    .dataframe thead th {\n        text-align: right;\n    }\n</style>\n<table border=\"1\" class=\"dataframe\">\n  <thead>\n    <tr style=\"text-align: right;\">\n      <th></th>\n      <th>Unnamed: 0</th>\n      <th>branchId</th>\n      <th>branch_length_ratio_split</th>\n      <th>mean_closeness_centrality_ratio</th>\n      <th>parsimony_support</th>\n      <th>min_pars_support_children_weighted</th>\n      <th>max_pars_support_children_weighted</th>\n      <th>mean_pars_support_parents_weighted</th>\n      <th>branch_length</th>\n      <th>norm_branch_length</th>\n      <th>...</th>\n      <th>min_pars_bootstrap_support_children_w</th>\n      <th>max_pars_bootstrap_support_children_w</th>\n      <th>std_pars_bootstrap_support_children</th>\n      <th>mean_norm_rf_distance</th>\n      <th>max_substitution_frequency</th>\n      <th>mean_substitution_frequency</th>\n      <th>cv_substitution_frequency</th>\n      <th>skw_substitution_frequency</th>\n      <th>dataset</th>\n      <th>support</th>\n    </tr>\n  </thead>\n  <tbody>\n    <tr>\n      <th>0</th>\n      <td>0</td>\n      <td>1</td>\n      <td>1.000000</td>\n      <td>1.000000</td>\n      <td>0.01</td>\n      <td>0.000000</td>\n      <td>8.226300</td>\n      <td>-1.000000</td>\n      <td>0.000000</td>\n      <td>0.000000</td>\n      <td>...</td>\n      <td>0.000000</td>\n      <td>8.226300</td>\n      <td>36.639799</td>\n      <td>0.530470</td>\n      <td>0.142857</td>\n      <td>0.005826</td>\n      <td>2.790572</td>\n      <td>3.417270</td>\n      <td>24992_0</td>\n      <td>0.01</td>\n    </tr>\n    <tr>\n      <th>1</th>\n      <td>1</td>\n      <td>2</td>\n      <td>0.973670</td>\n      <td>0.257669</td>\n      <td>0.06</td>\n      <td>0.000002</td>\n      <td>0.000012</td>\n      <td>0.000000</td>\n      <td>0.000002</td>\n      <td>0.000019</td>\n      <td>...</td>\n      <td>0.000000</td>\n      <td>0.000000</td>\n      <td>0.000000</td>\n      <td>0.530470</td>\n      <td>0.142857</td>\n      <td>0.005826</td>\n      <td>2.790572</td>\n      <td>3.417270</td>\n      <td>24992_0</td>\n      <td>0.03</td>\n    </tr>\n    <tr>\n      <th>2</th>\n      <td>2</td>\n      <td>7</td>\n      <td>0.026302</td>\n      <td>0.046723</td>\n      <td>1.00</td>\n      <td>0.000018</td>\n      <td>8.226300</td>\n      <td>0.000007</td>\n      <td>0.000910</td>\n      <td>0.008605</td>\n      <td>...</td>\n      <td>0.000013</td>\n      <td>8.226300</td>\n      <td>27.695487</td>\n      <td>0.530470</td>\n      <td>0.142857</td>\n      <td>0.005826</td>\n      <td>2.790572</td>\n      <td>3.417270</td>\n      <td>24992_0</td>\n      <td>0.84</td>\n    </tr>\n    <tr>\n      <th>3</th>\n      <td>3</td>\n      <td>11</td>\n      <td>0.019750</td>\n      <td>0.040789</td>\n      <td>1.00</td>\n      <td>0.000020</td>\n      <td>8.226300</td>\n      <td>0.030338</td>\n      <td>0.003710</td>\n      <td>0.035080</td>\n      <td>...</td>\n      <td>0.000013</td>\n      <td>8.226300</td>\n      <td>27.375639</td>\n      <td>0.530470</td>\n      <td>0.142857</td>\n      <td>0.005826</td>\n      <td>2.790572</td>\n      <td>3.417270</td>\n      <td>24992_0</td>\n      <td>0.99</td>\n    </tr>\n    <tr>\n      <th>4</th>\n      <td>4</td>\n      <td>12</td>\n      <td>0.933898</td>\n      <td>0.006184</td>\n      <td>0.18</td>\n      <td>0.000018</td>\n      <td>0.000100</td>\n      <td>0.030338</td>\n      <td>0.000001</td>\n      <td>0.000009</td>\n      <td>...</td>\n      <td>0.000016</td>\n      <td>0.000066</td>\n      <td>25.000000</td>\n      <td>0.530470</td>\n      <td>0.142857</td>\n      <td>0.005826</td>\n      <td>2.790572</td>\n      <td>3.417270</td>\n      <td>24992_0</td>\n      <td>0.57</td>\n    </tr>\n    <tr>\n      <th>...</th>\n      <td>...</td>\n      <td>...</td>\n      <td>...</td>\n      <td>...</td>\n      <td>...</td>\n      <td>...</td>\n      <td>...</td>\n      <td>...</td>\n      <td>...</td>\n      <td>...</td>\n      <td>...</td>\n      <td>...</td>\n      <td>...</td>\n      <td>...</td>\n      <td>...</td>\n      <td>...</td>\n      <td>...</td>\n      <td>...</td>\n      <td>...</td>\n      <td>...</td>\n      <td>...</td>\n    </tr>\n    <tr>\n      <th>85560</th>\n      <td>85560</td>\n      <td>23</td>\n      <td>0.148782</td>\n      <td>0.106783</td>\n      <td>0.02</td>\n      <td>0.000002</td>\n      <td>0.151000</td>\n      <td>0.023666</td>\n      <td>0.000001</td>\n      <td>0.000050</td>\n      <td>...</td>\n      <td>0.000000</td>\n      <td>0.093620</td>\n      <td>23.068593</td>\n      <td>0.812321</td>\n      <td>0.105263</td>\n      <td>0.007428</td>\n      <td>2.617083</td>\n      <td>2.499561</td>\n      <td>14433_0</td>\n      <td>0.02</td>\n    </tr>\n    <tr>\n      <th>85561</th>\n      <td>85561</td>\n      <td>28</td>\n      <td>0.148749</td>\n      <td>0.204262</td>\n      <td>0.05</td>\n      <td>0.000005</td>\n      <td>0.151000</td>\n      <td>0.020286</td>\n      <td>0.000001</td>\n      <td>0.000050</td>\n      <td>...</td>\n      <td>0.000000</td>\n      <td>0.093620</td>\n      <td>23.932196</td>\n      <td>0.812321</td>\n      <td>0.105263</td>\n      <td>0.007428</td>\n      <td>2.617083</td>\n      <td>2.499561</td>\n      <td>14433_0</td>\n      <td>0.11</td>\n    </tr>\n    <tr>\n      <th>85562</th>\n      <td>85562</td>\n      <td>30</td>\n      <td>0.049436</td>\n      <td>0.015988</td>\n      <td>1.00</td>\n      <td>0.000017</td>\n      <td>0.151000</td>\n      <td>0.017750</td>\n      <td>0.001510</td>\n      <td>0.075248</td>\n      <td>...</td>\n      <td>0.000000</td>\n      <td>0.093620</td>\n      <td>26.549744</td>\n      <td>0.812321</td>\n      <td>0.105263</td>\n      <td>0.007428</td>\n      <td>2.617083</td>\n      <td>2.499561</td>\n      <td>14433_0</td>\n      <td>0.75</td>\n    </tr>\n    <tr>\n      <th>85563</th>\n      <td>85563</td>\n      <td>32</td>\n      <td>0.024767</td>\n      <td>0.011802</td>\n      <td>0.25</td>\n      <td>0.000017</td>\n      <td>0.000025</td>\n      <td>0.032556</td>\n      <td>0.000001</td>\n      <td>0.000050</td>\n      <td>...</td>\n      <td>0.000000</td>\n      <td>0.000014</td>\n      <td>7.000000</td>\n      <td>0.812321</td>\n      <td>0.105263</td>\n      <td>0.007428</td>\n      <td>2.617083</td>\n      <td>2.499561</td>\n      <td>14433_0</td>\n      <td>0.31</td>\n    </tr>\n    <tr>\n      <th>85564</th>\n      <td>85564</td>\n      <td>34</td>\n      <td>0.024734</td>\n      <td>0.011799</td>\n      <td>0.17</td>\n      <td>0.000017</td>\n      <td>0.000017</td>\n      <td>0.029303</td>\n      <td>0.000001</td>\n      <td>0.000050</td>\n      <td>...</td>\n      <td>0.000014</td>\n      <td>0.000014</td>\n      <td>-1.000000</td>\n      <td>0.812321</td>\n      <td>0.105263</td>\n      <td>0.007428</td>\n      <td>2.617083</td>\n      <td>2.499561</td>\n      <td>14433_0</td>\n      <td>0.17</td>\n    </tr>\n  </tbody>\n</table>\n<p>85565 rows × 28 columns</p>\n</div>"
     },
     "execution_count": 16,
     "metadata": {},
     "output_type": "execute_result"
    }
   ],
   "source": [
    "data_df"
   ],
   "metadata": {
    "collapsed": false,
    "ExecuteTime": {
     "end_time": "2024-04-02T04:28:55.089035Z",
     "start_time": "2024-04-02T04:28:55.058498Z"
    }
   },
   "id": "771ea71a0125b05f",
   "execution_count": 16
  },
  {
   "cell_type": "code",
   "outputs": [
    {
     "data": {
      "text/plain": "       Unnamed: 0  branchId  branch_length_ratio_split  \\\n74673       74673         1                   1.000000   \n74674       74674         2                   0.669560   \n74675       74675         3                   0.297262   \n74676       74676         5                   0.171263   \n74677       74677         6                   0.479810   \n74678       74678         7                   0.253661   \n74679       74679         9                   0.081585   \n74680       74680        10                   0.060604   \n74681       74681        11                   0.120352   \n74682       74682        12                   0.267996   \n74683       74683        13                   0.125518   \n74684       74684        15                   0.053929   \n74685       74685        22                   0.108672   \n\n       mean_closeness_centrality_ratio  parsimony_support  \\\n74673                         1.000000               0.01   \n74674                         0.005366               0.18   \n74675                         0.005624               0.06   \n74676                         0.095437               0.11   \n74677                         0.004547               0.06   \n74678                         0.004359               0.34   \n74679                         0.026522               0.52   \n74680                         0.013539               0.38   \n74681                         0.007644               0.99   \n74682                         0.007669               0.32   \n74683                         0.006984               0.94   \n74684                         0.007959               0.93   \n74685                         0.007220               0.31   \n\n       min_pars_support_children_weighted  max_pars_support_children_weighted  \\\n74673                            0.000000                            4.530537   \n74674                            0.000038                            4.530537   \n74675                            0.046950                            4.244100   \n74676                            0.000038                            1.650843   \n74677                            0.014016                            4.530537   \n74678                            0.587180                            4.244100   \n74679                            0.970320                            1.650843   \n74680                            0.000038                            0.000038   \n74681                            4.530537                            4.530537   \n74682                            0.333312                            0.414208   \n74683                            4.244100                            4.244100   \n74684                            1.650843                            1.650843   \n74685                            0.333312                            0.333312   \n\n       mean_pars_support_parents_weighted  branch_length  norm_branch_length  \\\n74673                           -1.000000       0.000000            0.000000   \n74674                            0.000000       0.013470            0.108900   \n74675                            0.000000       0.007825            0.063262   \n74676                            0.121230       0.009530            0.077046   \n74677                            0.121230       0.002336            0.018886   \n74678                            0.023475       0.017270            0.139621   \n74679                            0.115763       0.018660            0.150859   \n74680                            0.115763       0.000001            0.000008   \n74681                            0.085492       0.045763            0.369975   \n74682                            0.085492       0.012944            0.104647   \n74683                            0.211377       0.045150            0.365020   \n74684                            0.329402       0.017751            0.143510   \n74685                            0.167671       0.010752            0.086926   \n\n       ...  min_pars_bootstrap_support_children_w  \\\n74673  ...                               0.000000   \n74674  ...                               0.000024   \n74675  ...                               0.062600   \n74676  ...                               0.000024   \n74677  ...                               0.004672   \n74678  ...                               0.293590   \n74679  ...                               0.559800   \n74680  ...                               0.000024   \n74681  ...                               3.661040   \n74682  ...                               0.168272   \n74683  ...                               2.844450   \n74684  ...                               1.242570   \n74685  ...                               0.258048   \n\n       max_pars_bootstrap_support_children_w  \\\n74673                               3.661040   \n74674                               3.661040   \n74675                               2.844450   \n74676                               1.242570   \n74677                               3.661040   \n74678                               2.844450   \n74679                               1.242570   \n74680                               0.000024   \n74681                               3.661040   \n74682                               0.258048   \n74683                               2.844450   \n74684                               1.242570   \n74685                               0.258048   \n\n       std_pars_bootstrap_support_children  mean_norm_rf_distance  \\\n74673                            25.885501               0.802169   \n74674                            26.360745               0.802169   \n74675                            24.087802               0.802169   \n74676                            22.287889               0.802169   \n74677                            30.036436               0.802169   \n74678                            23.000000               0.802169   \n74679                            20.000000               0.802169   \n74680                            -1.000000               0.802169   \n74681                            -1.000000               0.802169   \n74682                             5.500000               0.802169   \n74683                            -1.000000               0.802169   \n74684                            -1.000000               0.802169   \n74685                            -1.000000               0.802169   \n\n       max_substitution_frequency  mean_substitution_frequency  \\\n74673                    0.333333                      0.06036   \n74674                    0.333333                      0.06036   \n74675                    0.333333                      0.06036   \n74676                    0.333333                      0.06036   \n74677                    0.333333                      0.06036   \n74678                    0.333333                      0.06036   \n74679                    0.333333                      0.06036   \n74680                    0.333333                      0.06036   \n74681                    0.333333                      0.06036   \n74682                    0.333333                      0.06036   \n74683                    0.333333                      0.06036   \n74684                    0.333333                      0.06036   \n74685                    0.333333                      0.06036   \n\n       cv_substitution_frequency  skw_substitution_frequency  dataset  support  \n74673                   1.526162                    1.256783    378_3     0.01  \n74674                   1.526162                    1.256783    378_3     0.18  \n74675                   1.526162                    1.256783    378_3     0.31  \n74676                   1.526162                    1.256783    378_3     0.19  \n74677                   1.526162                    1.256783    378_3     0.03  \n74678                   1.526162                    1.256783    378_3     0.30  \n74679                   1.526162                    1.256783    378_3     0.36  \n74680                   1.526162                    1.256783    378_3     0.23  \n74681                   1.526162                    1.256783    378_3     0.76  \n74682                   1.526162                    1.256783    378_3     0.21  \n74683                   1.526162                    1.256783    378_3     0.79  \n74684                   1.526162                    1.256783    378_3     0.62  \n74685                   1.526162                    1.256783    378_3     0.39  \n\n[13 rows x 28 columns]",
      "text/html": "<div>\n<style scoped>\n    .dataframe tbody tr th:only-of-type {\n        vertical-align: middle;\n    }\n\n    .dataframe tbody tr th {\n        vertical-align: top;\n    }\n\n    .dataframe thead th {\n        text-align: right;\n    }\n</style>\n<table border=\"1\" class=\"dataframe\">\n  <thead>\n    <tr style=\"text-align: right;\">\n      <th></th>\n      <th>Unnamed: 0</th>\n      <th>branchId</th>\n      <th>branch_length_ratio_split</th>\n      <th>mean_closeness_centrality_ratio</th>\n      <th>parsimony_support</th>\n      <th>min_pars_support_children_weighted</th>\n      <th>max_pars_support_children_weighted</th>\n      <th>mean_pars_support_parents_weighted</th>\n      <th>branch_length</th>\n      <th>norm_branch_length</th>\n      <th>...</th>\n      <th>min_pars_bootstrap_support_children_w</th>\n      <th>max_pars_bootstrap_support_children_w</th>\n      <th>std_pars_bootstrap_support_children</th>\n      <th>mean_norm_rf_distance</th>\n      <th>max_substitution_frequency</th>\n      <th>mean_substitution_frequency</th>\n      <th>cv_substitution_frequency</th>\n      <th>skw_substitution_frequency</th>\n      <th>dataset</th>\n      <th>support</th>\n    </tr>\n  </thead>\n  <tbody>\n    <tr>\n      <th>74673</th>\n      <td>74673</td>\n      <td>1</td>\n      <td>1.000000</td>\n      <td>1.000000</td>\n      <td>0.01</td>\n      <td>0.000000</td>\n      <td>4.530537</td>\n      <td>-1.000000</td>\n      <td>0.000000</td>\n      <td>0.000000</td>\n      <td>...</td>\n      <td>0.000000</td>\n      <td>3.661040</td>\n      <td>25.885501</td>\n      <td>0.802169</td>\n      <td>0.333333</td>\n      <td>0.06036</td>\n      <td>1.526162</td>\n      <td>1.256783</td>\n      <td>378_3</td>\n      <td>0.01</td>\n    </tr>\n    <tr>\n      <th>74674</th>\n      <td>74674</td>\n      <td>2</td>\n      <td>0.669560</td>\n      <td>0.005366</td>\n      <td>0.18</td>\n      <td>0.000038</td>\n      <td>4.530537</td>\n      <td>0.000000</td>\n      <td>0.013470</td>\n      <td>0.108900</td>\n      <td>...</td>\n      <td>0.000024</td>\n      <td>3.661040</td>\n      <td>26.360745</td>\n      <td>0.802169</td>\n      <td>0.333333</td>\n      <td>0.06036</td>\n      <td>1.526162</td>\n      <td>1.256783</td>\n      <td>378_3</td>\n      <td>0.18</td>\n    </tr>\n    <tr>\n      <th>74675</th>\n      <td>74675</td>\n      <td>3</td>\n      <td>0.297262</td>\n      <td>0.005624</td>\n      <td>0.06</td>\n      <td>0.046950</td>\n      <td>4.244100</td>\n      <td>0.000000</td>\n      <td>0.007825</td>\n      <td>0.063262</td>\n      <td>...</td>\n      <td>0.062600</td>\n      <td>2.844450</td>\n      <td>24.087802</td>\n      <td>0.802169</td>\n      <td>0.333333</td>\n      <td>0.06036</td>\n      <td>1.526162</td>\n      <td>1.256783</td>\n      <td>378_3</td>\n      <td>0.31</td>\n    </tr>\n    <tr>\n      <th>74676</th>\n      <td>74676</td>\n      <td>5</td>\n      <td>0.171263</td>\n      <td>0.095437</td>\n      <td>0.11</td>\n      <td>0.000038</td>\n      <td>1.650843</td>\n      <td>0.121230</td>\n      <td>0.009530</td>\n      <td>0.077046</td>\n      <td>...</td>\n      <td>0.000024</td>\n      <td>1.242570</td>\n      <td>22.287889</td>\n      <td>0.802169</td>\n      <td>0.333333</td>\n      <td>0.06036</td>\n      <td>1.526162</td>\n      <td>1.256783</td>\n      <td>378_3</td>\n      <td>0.19</td>\n    </tr>\n    <tr>\n      <th>74677</th>\n      <td>74677</td>\n      <td>6</td>\n      <td>0.479810</td>\n      <td>0.004547</td>\n      <td>0.06</td>\n      <td>0.014016</td>\n      <td>4.530537</td>\n      <td>0.121230</td>\n      <td>0.002336</td>\n      <td>0.018886</td>\n      <td>...</td>\n      <td>0.004672</td>\n      <td>3.661040</td>\n      <td>30.036436</td>\n      <td>0.802169</td>\n      <td>0.333333</td>\n      <td>0.06036</td>\n      <td>1.526162</td>\n      <td>1.256783</td>\n      <td>378_3</td>\n      <td>0.03</td>\n    </tr>\n    <tr>\n      <th>74678</th>\n      <td>74678</td>\n      <td>7</td>\n      <td>0.253661</td>\n      <td>0.004359</td>\n      <td>0.34</td>\n      <td>0.587180</td>\n      <td>4.244100</td>\n      <td>0.023475</td>\n      <td>0.017270</td>\n      <td>0.139621</td>\n      <td>...</td>\n      <td>0.293590</td>\n      <td>2.844450</td>\n      <td>23.000000</td>\n      <td>0.802169</td>\n      <td>0.333333</td>\n      <td>0.06036</td>\n      <td>1.526162</td>\n      <td>1.256783</td>\n      <td>378_3</td>\n      <td>0.30</td>\n    </tr>\n    <tr>\n      <th>74679</th>\n      <td>74679</td>\n      <td>9</td>\n      <td>0.081585</td>\n      <td>0.026522</td>\n      <td>0.52</td>\n      <td>0.970320</td>\n      <td>1.650843</td>\n      <td>0.115763</td>\n      <td>0.018660</td>\n      <td>0.150859</td>\n      <td>...</td>\n      <td>0.559800</td>\n      <td>1.242570</td>\n      <td>20.000000</td>\n      <td>0.802169</td>\n      <td>0.333333</td>\n      <td>0.06036</td>\n      <td>1.526162</td>\n      <td>1.256783</td>\n      <td>378_3</td>\n      <td>0.36</td>\n    </tr>\n    <tr>\n      <th>74680</th>\n      <td>74680</td>\n      <td>10</td>\n      <td>0.060604</td>\n      <td>0.013539</td>\n      <td>0.38</td>\n      <td>0.000038</td>\n      <td>0.000038</td>\n      <td>0.115763</td>\n      <td>0.000001</td>\n      <td>0.000008</td>\n      <td>...</td>\n      <td>0.000024</td>\n      <td>0.000024</td>\n      <td>-1.000000</td>\n      <td>0.802169</td>\n      <td>0.333333</td>\n      <td>0.06036</td>\n      <td>1.526162</td>\n      <td>1.256783</td>\n      <td>378_3</td>\n      <td>0.23</td>\n    </tr>\n    <tr>\n      <th>74681</th>\n      <td>74681</td>\n      <td>11</td>\n      <td>0.120352</td>\n      <td>0.007644</td>\n      <td>0.99</td>\n      <td>4.530537</td>\n      <td>4.530537</td>\n      <td>0.085492</td>\n      <td>0.045763</td>\n      <td>0.369975</td>\n      <td>...</td>\n      <td>3.661040</td>\n      <td>3.661040</td>\n      <td>-1.000000</td>\n      <td>0.802169</td>\n      <td>0.333333</td>\n      <td>0.06036</td>\n      <td>1.526162</td>\n      <td>1.256783</td>\n      <td>378_3</td>\n      <td>0.76</td>\n    </tr>\n    <tr>\n      <th>74682</th>\n      <td>74682</td>\n      <td>12</td>\n      <td>0.267996</td>\n      <td>0.007669</td>\n      <td>0.32</td>\n      <td>0.333312</td>\n      <td>0.414208</td>\n      <td>0.085492</td>\n      <td>0.012944</td>\n      <td>0.104647</td>\n      <td>...</td>\n      <td>0.168272</td>\n      <td>0.258048</td>\n      <td>5.500000</td>\n      <td>0.802169</td>\n      <td>0.333333</td>\n      <td>0.06036</td>\n      <td>1.526162</td>\n      <td>1.256783</td>\n      <td>378_3</td>\n      <td>0.21</td>\n    </tr>\n    <tr>\n      <th>74683</th>\n      <td>74683</td>\n      <td>13</td>\n      <td>0.125518</td>\n      <td>0.006984</td>\n      <td>0.94</td>\n      <td>4.244100</td>\n      <td>4.244100</td>\n      <td>0.211377</td>\n      <td>0.045150</td>\n      <td>0.365020</td>\n      <td>...</td>\n      <td>2.844450</td>\n      <td>2.844450</td>\n      <td>-1.000000</td>\n      <td>0.802169</td>\n      <td>0.333333</td>\n      <td>0.06036</td>\n      <td>1.526162</td>\n      <td>1.256783</td>\n      <td>378_3</td>\n      <td>0.79</td>\n    </tr>\n    <tr>\n      <th>74684</th>\n      <td>74684</td>\n      <td>15</td>\n      <td>0.053929</td>\n      <td>0.007959</td>\n      <td>0.93</td>\n      <td>1.650843</td>\n      <td>1.650843</td>\n      <td>0.329402</td>\n      <td>0.017751</td>\n      <td>0.143510</td>\n      <td>...</td>\n      <td>1.242570</td>\n      <td>1.242570</td>\n      <td>-1.000000</td>\n      <td>0.802169</td>\n      <td>0.333333</td>\n      <td>0.06036</td>\n      <td>1.526162</td>\n      <td>1.256783</td>\n      <td>378_3</td>\n      <td>0.62</td>\n    </tr>\n    <tr>\n      <th>74685</th>\n      <td>74685</td>\n      <td>22</td>\n      <td>0.108672</td>\n      <td>0.007220</td>\n      <td>0.31</td>\n      <td>0.333312</td>\n      <td>0.333312</td>\n      <td>0.167671</td>\n      <td>0.010752</td>\n      <td>0.086926</td>\n      <td>...</td>\n      <td>0.258048</td>\n      <td>0.258048</td>\n      <td>-1.000000</td>\n      <td>0.802169</td>\n      <td>0.333333</td>\n      <td>0.06036</td>\n      <td>1.526162</td>\n      <td>1.256783</td>\n      <td>378_3</td>\n      <td>0.39</td>\n    </tr>\n  </tbody>\n</table>\n<p>13 rows × 28 columns</p>\n</div>"
     },
     "execution_count": 19,
     "metadata": {},
     "output_type": "execute_result"
    }
   ],
   "source": [
    "data_df[data_df[\"dataset\"]==\"378_3\"]"
   ],
   "metadata": {
    "collapsed": false,
    "ExecuteTime": {
     "end_time": "2024-04-02T04:30:12.895460Z",
     "start_time": "2024-04-02T04:30:12.874198Z"
    }
   },
   "id": "faaeb04e00e2a44",
   "execution_count": 19
  },
  {
   "cell_type": "code",
   "outputs": [],
   "source": [],
   "metadata": {
    "collapsed": false
   },
   "id": "e67525d2ec2365f2"
  }
 ],
 "metadata": {
  "kernelspec": {
   "display_name": "Python 3",
   "language": "python",
   "name": "python3"
  },
  "language_info": {
   "codemirror_mode": {
    "name": "ipython",
    "version": 2
   },
   "file_extension": ".py",
   "mimetype": "text/x-python",
   "name": "python",
   "nbconvert_exporter": "python",
   "pygments_lexer": "ipython2",
   "version": "2.7.6"
  }
 },
 "nbformat": 4,
 "nbformat_minor": 5
}
