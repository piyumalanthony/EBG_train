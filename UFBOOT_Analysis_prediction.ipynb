{
 "cells": [
  {
   "cell_type": "code",
   "id": "initial_id",
   "metadata": {
    "collapsed": true,
    "ExecuteTime": {
     "end_time": "2024-04-09T20:45:12.791201Z",
     "start_time": "2024-04-09T20:45:12.395024Z"
    }
   },
   "source": [
    "import pandas as pd\n",
    "import matplotlib.pyplot as plt"
   ],
   "outputs": [],
   "execution_count": 1
  },
  {
   "metadata": {
    "ExecuteTime": {
     "end_time": "2024-04-09T20:45:58.811233Z",
     "start_time": "2024-04-09T20:45:58.693362Z"
    }
   },
   "cell_type": "code",
   "source": "data_df = pd.read_csv('/home/piyumal/PHD/phylogenetics/bootstrap_support/final_mpboot_train_v2_ufboot_20240409.csv')",
   "id": "fa4383e6a3765e7e",
   "outputs": [],
   "execution_count": 2
  },
  {
   "metadata": {
    "ExecuteTime": {
     "end_time": "2024-04-09T20:46:02.216240Z",
     "start_time": "2024-04-09T20:46:02.198355Z"
    }
   },
   "cell_type": "code",
   "source": "data_df",
   "id": "7791c2ac5e192c99",
   "outputs": [
    {
     "data": {
      "text/plain": [
       "       branchId  branch_length_ratio_split  mean_closeness_centrality_ratio  \\\n",
       "0             1                   1.000000                         1.000000   \n",
       "1             2                   0.442778                         0.169876   \n",
       "2             3                   0.000022                         0.016541   \n",
       "3             5                   0.085154                         0.230757   \n",
       "4             9                   0.000045                         0.023630   \n",
       "...         ...                        ...                              ...   \n",
       "68588        23                   0.148782                         0.106783   \n",
       "68589        28                   0.148749                         0.204262   \n",
       "68590        30                   0.049436                         0.015988   \n",
       "68591        32                   0.024767                         0.011802   \n",
       "68592        34                   0.024734                         0.011799   \n",
       "\n",
       "       parsimony_support  min_pars_support_children_weighted  \\\n",
       "0                   0.01                            0.000000   \n",
       "1                   0.00                            0.000000   \n",
       "2                   1.00                            3.356000   \n",
       "3                   0.43                            0.000043   \n",
       "4                   1.00                            0.000100   \n",
       "...                  ...                                 ...   \n",
       "68588               0.02                            0.000002   \n",
       "68589               0.05                            0.000005   \n",
       "68590               1.00                            0.000017   \n",
       "68591               0.25                            0.000017   \n",
       "68592               0.17                            0.000017   \n",
       "\n",
       "       max_pars_support_children_weighted  mean_pars_support_parents_weighted  \\\n",
       "0                                3.356000                           -1.000000   \n",
       "1                                0.763500                            0.000000   \n",
       "2                                3.356000                            0.000000   \n",
       "3                                0.763500                            0.000000   \n",
       "4                                0.763500                            0.000014   \n",
       "...                                   ...                                 ...   \n",
       "68588                            0.151000                            0.023666   \n",
       "68589                            0.151000                            0.020286   \n",
       "68590                            0.151000                            0.017750   \n",
       "68591                            0.000025                            0.032556   \n",
       "68592                            0.000017                            0.029303   \n",
       "\n",
       "       branch_length  norm_branch_length  min_pars_support_children  ...  \\\n",
       "0           0.000000            0.000000                        0.0  ...   \n",
       "1           0.016431            0.338672                        0.0  ...   \n",
       "2           0.033560            0.691731                      100.0  ...   \n",
       "3           0.000001            0.000021                       43.0  ...   \n",
       "4           0.007635            0.157371                      100.0  ...   \n",
       "...              ...                 ...                        ...  ...   \n",
       "68588       0.000001            0.000050                        2.0  ...   \n",
       "68589       0.000001            0.000050                        5.0  ...   \n",
       "68590       0.001510            0.075248                       17.0  ...   \n",
       "68591       0.000001            0.000050                       17.0  ...   \n",
       "68592       0.000001            0.000050                       17.0  ...   \n",
       "\n",
       "       std_pars_bootstrap_support_children  mean_norm_rf_distance  \\\n",
       "0                                34.767881               0.524040   \n",
       "1                                31.736217               0.524040   \n",
       "2                                -1.000000               0.524040   \n",
       "3                                26.318561               0.524040   \n",
       "4                                 3.500000               0.524040   \n",
       "...                                    ...                    ...   \n",
       "68588                            23.068593               0.812321   \n",
       "68589                            23.932196               0.812321   \n",
       "68590                            26.549744               0.812321   \n",
       "68591                             7.000000               0.812321   \n",
       "68592                            -1.000000               0.812321   \n",
       "\n",
       "       max_substitution_frequency  mean_substitution_frequency  \\\n",
       "0                        0.375000                     0.013423   \n",
       "1                        0.375000                     0.013423   \n",
       "2                        0.375000                     0.013423   \n",
       "3                        0.375000                     0.013423   \n",
       "4                        0.375000                     0.013423   \n",
       "...                           ...                          ...   \n",
       "68588                    0.105263                     0.007428   \n",
       "68589                    0.105263                     0.007428   \n",
       "68590                    0.105263                     0.007428   \n",
       "68591                    0.105263                     0.007428   \n",
       "68592                    0.105263                     0.007428   \n",
       "\n",
       "       cv_substitution_frequency  skw_substitution_frequency  dataset  \\\n",
       "0                       4.070892                    4.439707  12145_0   \n",
       "1                       4.070892                    4.439707  12145_0   \n",
       "2                       4.070892                    4.439707  12145_0   \n",
       "3                       4.070892                    4.439707  12145_0   \n",
       "4                       4.070892                    4.439707  12145_0   \n",
       "...                          ...                         ...      ...   \n",
       "68588                   2.617083                    2.499561  14433_0   \n",
       "68589                   2.617083                    2.499561  14433_0   \n",
       "68590                   2.617083                    2.499561  14433_0   \n",
       "68591                   2.617083                    2.499561  14433_0   \n",
       "68592                   2.617083                    2.499561  14433_0   \n",
       "\n",
       "       support  mpboot_value  ufboot_value  \n",
       "0         0.01          0.01          0.01  \n",
       "1         0.68          0.04          0.28  \n",
       "2         0.87          0.89          0.86  \n",
       "3         0.75          0.30          0.44  \n",
       "4         0.73          0.82          0.70  \n",
       "...        ...           ...           ...  \n",
       "68588     0.02          0.07          0.00  \n",
       "68589     0.11          0.11          0.02  \n",
       "68590     0.75          0.84          0.80  \n",
       "68591     0.31          0.31          0.45  \n",
       "68592     0.17          0.35          0.44  \n",
       "\n",
       "[68593 rows x 29 columns]"
      ],
      "text/html": [
       "<div>\n",
       "<style scoped>\n",
       "    .dataframe tbody tr th:only-of-type {\n",
       "        vertical-align: middle;\n",
       "    }\n",
       "\n",
       "    .dataframe tbody tr th {\n",
       "        vertical-align: top;\n",
       "    }\n",
       "\n",
       "    .dataframe thead th {\n",
       "        text-align: right;\n",
       "    }\n",
       "</style>\n",
       "<table border=\"1\" class=\"dataframe\">\n",
       "  <thead>\n",
       "    <tr style=\"text-align: right;\">\n",
       "      <th></th>\n",
       "      <th>branchId</th>\n",
       "      <th>branch_length_ratio_split</th>\n",
       "      <th>mean_closeness_centrality_ratio</th>\n",
       "      <th>parsimony_support</th>\n",
       "      <th>min_pars_support_children_weighted</th>\n",
       "      <th>max_pars_support_children_weighted</th>\n",
       "      <th>mean_pars_support_parents_weighted</th>\n",
       "      <th>branch_length</th>\n",
       "      <th>norm_branch_length</th>\n",
       "      <th>min_pars_support_children</th>\n",
       "      <th>...</th>\n",
       "      <th>std_pars_bootstrap_support_children</th>\n",
       "      <th>mean_norm_rf_distance</th>\n",
       "      <th>max_substitution_frequency</th>\n",
       "      <th>mean_substitution_frequency</th>\n",
       "      <th>cv_substitution_frequency</th>\n",
       "      <th>skw_substitution_frequency</th>\n",
       "      <th>dataset</th>\n",
       "      <th>support</th>\n",
       "      <th>mpboot_value</th>\n",
       "      <th>ufboot_value</th>\n",
       "    </tr>\n",
       "  </thead>\n",
       "  <tbody>\n",
       "    <tr>\n",
       "      <th>0</th>\n",
       "      <td>1</td>\n",
       "      <td>1.000000</td>\n",
       "      <td>1.000000</td>\n",
       "      <td>0.01</td>\n",
       "      <td>0.000000</td>\n",
       "      <td>3.356000</td>\n",
       "      <td>-1.000000</td>\n",
       "      <td>0.000000</td>\n",
       "      <td>0.000000</td>\n",
       "      <td>0.0</td>\n",
       "      <td>...</td>\n",
       "      <td>34.767881</td>\n",
       "      <td>0.524040</td>\n",
       "      <td>0.375000</td>\n",
       "      <td>0.013423</td>\n",
       "      <td>4.070892</td>\n",
       "      <td>4.439707</td>\n",
       "      <td>12145_0</td>\n",
       "      <td>0.01</td>\n",
       "      <td>0.01</td>\n",
       "      <td>0.01</td>\n",
       "    </tr>\n",
       "    <tr>\n",
       "      <th>1</th>\n",
       "      <td>2</td>\n",
       "      <td>0.442778</td>\n",
       "      <td>0.169876</td>\n",
       "      <td>0.00</td>\n",
       "      <td>0.000000</td>\n",
       "      <td>0.763500</td>\n",
       "      <td>0.000000</td>\n",
       "      <td>0.016431</td>\n",
       "      <td>0.338672</td>\n",
       "      <td>0.0</td>\n",
       "      <td>...</td>\n",
       "      <td>31.736217</td>\n",
       "      <td>0.524040</td>\n",
       "      <td>0.375000</td>\n",
       "      <td>0.013423</td>\n",
       "      <td>4.070892</td>\n",
       "      <td>4.439707</td>\n",
       "      <td>12145_0</td>\n",
       "      <td>0.68</td>\n",
       "      <td>0.04</td>\n",
       "      <td>0.28</td>\n",
       "    </tr>\n",
       "    <tr>\n",
       "      <th>2</th>\n",
       "      <td>3</td>\n",
       "      <td>0.000022</td>\n",
       "      <td>0.016541</td>\n",
       "      <td>1.00</td>\n",
       "      <td>3.356000</td>\n",
       "      <td>3.356000</td>\n",
       "      <td>0.000000</td>\n",
       "      <td>0.033560</td>\n",
       "      <td>0.691731</td>\n",
       "      <td>100.0</td>\n",
       "      <td>...</td>\n",
       "      <td>-1.000000</td>\n",
       "      <td>0.524040</td>\n",
       "      <td>0.375000</td>\n",
       "      <td>0.013423</td>\n",
       "      <td>4.070892</td>\n",
       "      <td>4.439707</td>\n",
       "      <td>12145_0</td>\n",
       "      <td>0.87</td>\n",
       "      <td>0.89</td>\n",
       "      <td>0.86</td>\n",
       "    </tr>\n",
       "    <tr>\n",
       "      <th>3</th>\n",
       "      <td>5</td>\n",
       "      <td>0.085154</td>\n",
       "      <td>0.230757</td>\n",
       "      <td>0.43</td>\n",
       "      <td>0.000043</td>\n",
       "      <td>0.763500</td>\n",
       "      <td>0.000000</td>\n",
       "      <td>0.000001</td>\n",
       "      <td>0.000021</td>\n",
       "      <td>43.0</td>\n",
       "      <td>...</td>\n",
       "      <td>26.318561</td>\n",
       "      <td>0.524040</td>\n",
       "      <td>0.375000</td>\n",
       "      <td>0.013423</td>\n",
       "      <td>4.070892</td>\n",
       "      <td>4.439707</td>\n",
       "      <td>12145_0</td>\n",
       "      <td>0.75</td>\n",
       "      <td>0.30</td>\n",
       "      <td>0.44</td>\n",
       "    </tr>\n",
       "    <tr>\n",
       "      <th>4</th>\n",
       "      <td>9</td>\n",
       "      <td>0.000045</td>\n",
       "      <td>0.023630</td>\n",
       "      <td>1.00</td>\n",
       "      <td>0.000100</td>\n",
       "      <td>0.763500</td>\n",
       "      <td>0.000014</td>\n",
       "      <td>0.007635</td>\n",
       "      <td>0.157371</td>\n",
       "      <td>100.0</td>\n",
       "      <td>...</td>\n",
       "      <td>3.500000</td>\n",
       "      <td>0.524040</td>\n",
       "      <td>0.375000</td>\n",
       "      <td>0.013423</td>\n",
       "      <td>4.070892</td>\n",
       "      <td>4.439707</td>\n",
       "      <td>12145_0</td>\n",
       "      <td>0.73</td>\n",
       "      <td>0.82</td>\n",
       "      <td>0.70</td>\n",
       "    </tr>\n",
       "    <tr>\n",
       "      <th>...</th>\n",
       "      <td>...</td>\n",
       "      <td>...</td>\n",
       "      <td>...</td>\n",
       "      <td>...</td>\n",
       "      <td>...</td>\n",
       "      <td>...</td>\n",
       "      <td>...</td>\n",
       "      <td>...</td>\n",
       "      <td>...</td>\n",
       "      <td>...</td>\n",
       "      <td>...</td>\n",
       "      <td>...</td>\n",
       "      <td>...</td>\n",
       "      <td>...</td>\n",
       "      <td>...</td>\n",
       "      <td>...</td>\n",
       "      <td>...</td>\n",
       "      <td>...</td>\n",
       "      <td>...</td>\n",
       "      <td>...</td>\n",
       "      <td>...</td>\n",
       "    </tr>\n",
       "    <tr>\n",
       "      <th>68588</th>\n",
       "      <td>23</td>\n",
       "      <td>0.148782</td>\n",
       "      <td>0.106783</td>\n",
       "      <td>0.02</td>\n",
       "      <td>0.000002</td>\n",
       "      <td>0.151000</td>\n",
       "      <td>0.023666</td>\n",
       "      <td>0.000001</td>\n",
       "      <td>0.000050</td>\n",
       "      <td>2.0</td>\n",
       "      <td>...</td>\n",
       "      <td>23.068593</td>\n",
       "      <td>0.812321</td>\n",
       "      <td>0.105263</td>\n",
       "      <td>0.007428</td>\n",
       "      <td>2.617083</td>\n",
       "      <td>2.499561</td>\n",
       "      <td>14433_0</td>\n",
       "      <td>0.02</td>\n",
       "      <td>0.07</td>\n",
       "      <td>0.00</td>\n",
       "    </tr>\n",
       "    <tr>\n",
       "      <th>68589</th>\n",
       "      <td>28</td>\n",
       "      <td>0.148749</td>\n",
       "      <td>0.204262</td>\n",
       "      <td>0.05</td>\n",
       "      <td>0.000005</td>\n",
       "      <td>0.151000</td>\n",
       "      <td>0.020286</td>\n",
       "      <td>0.000001</td>\n",
       "      <td>0.000050</td>\n",
       "      <td>5.0</td>\n",
       "      <td>...</td>\n",
       "      <td>23.932196</td>\n",
       "      <td>0.812321</td>\n",
       "      <td>0.105263</td>\n",
       "      <td>0.007428</td>\n",
       "      <td>2.617083</td>\n",
       "      <td>2.499561</td>\n",
       "      <td>14433_0</td>\n",
       "      <td>0.11</td>\n",
       "      <td>0.11</td>\n",
       "      <td>0.02</td>\n",
       "    </tr>\n",
       "    <tr>\n",
       "      <th>68590</th>\n",
       "      <td>30</td>\n",
       "      <td>0.049436</td>\n",
       "      <td>0.015988</td>\n",
       "      <td>1.00</td>\n",
       "      <td>0.000017</td>\n",
       "      <td>0.151000</td>\n",
       "      <td>0.017750</td>\n",
       "      <td>0.001510</td>\n",
       "      <td>0.075248</td>\n",
       "      <td>17.0</td>\n",
       "      <td>...</td>\n",
       "      <td>26.549744</td>\n",
       "      <td>0.812321</td>\n",
       "      <td>0.105263</td>\n",
       "      <td>0.007428</td>\n",
       "      <td>2.617083</td>\n",
       "      <td>2.499561</td>\n",
       "      <td>14433_0</td>\n",
       "      <td>0.75</td>\n",
       "      <td>0.84</td>\n",
       "      <td>0.80</td>\n",
       "    </tr>\n",
       "    <tr>\n",
       "      <th>68591</th>\n",
       "      <td>32</td>\n",
       "      <td>0.024767</td>\n",
       "      <td>0.011802</td>\n",
       "      <td>0.25</td>\n",
       "      <td>0.000017</td>\n",
       "      <td>0.000025</td>\n",
       "      <td>0.032556</td>\n",
       "      <td>0.000001</td>\n",
       "      <td>0.000050</td>\n",
       "      <td>17.0</td>\n",
       "      <td>...</td>\n",
       "      <td>7.000000</td>\n",
       "      <td>0.812321</td>\n",
       "      <td>0.105263</td>\n",
       "      <td>0.007428</td>\n",
       "      <td>2.617083</td>\n",
       "      <td>2.499561</td>\n",
       "      <td>14433_0</td>\n",
       "      <td>0.31</td>\n",
       "      <td>0.31</td>\n",
       "      <td>0.45</td>\n",
       "    </tr>\n",
       "    <tr>\n",
       "      <th>68592</th>\n",
       "      <td>34</td>\n",
       "      <td>0.024734</td>\n",
       "      <td>0.011799</td>\n",
       "      <td>0.17</td>\n",
       "      <td>0.000017</td>\n",
       "      <td>0.000017</td>\n",
       "      <td>0.029303</td>\n",
       "      <td>0.000001</td>\n",
       "      <td>0.000050</td>\n",
       "      <td>17.0</td>\n",
       "      <td>...</td>\n",
       "      <td>-1.000000</td>\n",
       "      <td>0.812321</td>\n",
       "      <td>0.105263</td>\n",
       "      <td>0.007428</td>\n",
       "      <td>2.617083</td>\n",
       "      <td>2.499561</td>\n",
       "      <td>14433_0</td>\n",
       "      <td>0.17</td>\n",
       "      <td>0.35</td>\n",
       "      <td>0.44</td>\n",
       "    </tr>\n",
       "  </tbody>\n",
       "</table>\n",
       "<p>68593 rows × 29 columns</p>\n",
       "</div>"
      ]
     },
     "execution_count": 3,
     "metadata": {},
     "output_type": "execute_result"
    }
   ],
   "execution_count": 3
  },
  {
   "metadata": {
    "ExecuteTime": {
     "end_time": "2024-04-09T20:46:56.424168Z",
     "start_time": "2024-04-09T20:46:56.421507Z"
    }
   },
   "cell_type": "code",
   "source": "feature_importance_df = pd.read_csv(\"/home/piyumal/PHD/phylogenetics/bootstrap_support/feature_imporance_v2_20240409.csv\")",
   "id": "bb6dbc054f8f2165",
   "outputs": [],
   "execution_count": 5
  },
  {
   "metadata": {
    "ExecuteTime": {
     "end_time": "2024-04-09T20:47:00.596047Z",
     "start_time": "2024-04-09T20:47:00.592037Z"
    }
   },
   "cell_type": "code",
   "source": "feature_importance_df",
   "id": "d96cc1dd67831b3",
   "outputs": [
    {
     "data": {
      "text/plain": [
       "                                  feature  importance\n",
       "0                       parsimony_support    0.714533\n",
       "1                            mpboot_value    0.101736\n",
       "2             parsimony_bootstrap_support    0.064821\n",
       "3                           branch_length    0.032165\n",
       "4                number_children_relative    0.009415\n",
       "5                      norm_branch_length    0.008627\n",
       "6                   mean_norm_rf_distance    0.007694\n",
       "7      min_pars_support_children_weighted    0.006439\n",
       "8             mean_substitution_frequency    0.006237\n",
       "9              max_substitution_frequency    0.006197\n",
       "10     mean_pars_support_parents_weighted    0.005176\n",
       "11              cv_substitution_frequency    0.004224\n",
       "12   skewness_bootstrap_pars_support_tree    0.004125\n",
       "13    mean_pars_bootstrap_support_parents    0.003739\n",
       "14             skw_substitution_frequency    0.003586\n",
       "15     std_pars_bootstrap_support_parents    0.002759\n",
       "16              branch_length_ratio_split    0.002714\n",
       "17        mean_closeness_centrality_ratio    0.002607\n",
       "18  min_pars_bootstrap_support_children_w    0.002586\n",
       "19    mean_pars_support_children_weighted    0.002356\n",
       "20  max_pars_bootstrap_support_children_w    0.001829\n",
       "21              min_pars_support_children    0.001649\n",
       "22    std_pars_bootstrap_support_children    0.001646\n",
       "23     max_pars_support_children_weighted    0.001611\n",
       "24              std_pars_support_children    0.001529"
      ],
      "text/html": [
       "<div>\n",
       "<style scoped>\n",
       "    .dataframe tbody tr th:only-of-type {\n",
       "        vertical-align: middle;\n",
       "    }\n",
       "\n",
       "    .dataframe tbody tr th {\n",
       "        vertical-align: top;\n",
       "    }\n",
       "\n",
       "    .dataframe thead th {\n",
       "        text-align: right;\n",
       "    }\n",
       "</style>\n",
       "<table border=\"1\" class=\"dataframe\">\n",
       "  <thead>\n",
       "    <tr style=\"text-align: right;\">\n",
       "      <th></th>\n",
       "      <th>feature</th>\n",
       "      <th>importance</th>\n",
       "    </tr>\n",
       "  </thead>\n",
       "  <tbody>\n",
       "    <tr>\n",
       "      <th>0</th>\n",
       "      <td>parsimony_support</td>\n",
       "      <td>0.714533</td>\n",
       "    </tr>\n",
       "    <tr>\n",
       "      <th>1</th>\n",
       "      <td>mpboot_value</td>\n",
       "      <td>0.101736</td>\n",
       "    </tr>\n",
       "    <tr>\n",
       "      <th>2</th>\n",
       "      <td>parsimony_bootstrap_support</td>\n",
       "      <td>0.064821</td>\n",
       "    </tr>\n",
       "    <tr>\n",
       "      <th>3</th>\n",
       "      <td>branch_length</td>\n",
       "      <td>0.032165</td>\n",
       "    </tr>\n",
       "    <tr>\n",
       "      <th>4</th>\n",
       "      <td>number_children_relative</td>\n",
       "      <td>0.009415</td>\n",
       "    </tr>\n",
       "    <tr>\n",
       "      <th>5</th>\n",
       "      <td>norm_branch_length</td>\n",
       "      <td>0.008627</td>\n",
       "    </tr>\n",
       "    <tr>\n",
       "      <th>6</th>\n",
       "      <td>mean_norm_rf_distance</td>\n",
       "      <td>0.007694</td>\n",
       "    </tr>\n",
       "    <tr>\n",
       "      <th>7</th>\n",
       "      <td>min_pars_support_children_weighted</td>\n",
       "      <td>0.006439</td>\n",
       "    </tr>\n",
       "    <tr>\n",
       "      <th>8</th>\n",
       "      <td>mean_substitution_frequency</td>\n",
       "      <td>0.006237</td>\n",
       "    </tr>\n",
       "    <tr>\n",
       "      <th>9</th>\n",
       "      <td>max_substitution_frequency</td>\n",
       "      <td>0.006197</td>\n",
       "    </tr>\n",
       "    <tr>\n",
       "      <th>10</th>\n",
       "      <td>mean_pars_support_parents_weighted</td>\n",
       "      <td>0.005176</td>\n",
       "    </tr>\n",
       "    <tr>\n",
       "      <th>11</th>\n",
       "      <td>cv_substitution_frequency</td>\n",
       "      <td>0.004224</td>\n",
       "    </tr>\n",
       "    <tr>\n",
       "      <th>12</th>\n",
       "      <td>skewness_bootstrap_pars_support_tree</td>\n",
       "      <td>0.004125</td>\n",
       "    </tr>\n",
       "    <tr>\n",
       "      <th>13</th>\n",
       "      <td>mean_pars_bootstrap_support_parents</td>\n",
       "      <td>0.003739</td>\n",
       "    </tr>\n",
       "    <tr>\n",
       "      <th>14</th>\n",
       "      <td>skw_substitution_frequency</td>\n",
       "      <td>0.003586</td>\n",
       "    </tr>\n",
       "    <tr>\n",
       "      <th>15</th>\n",
       "      <td>std_pars_bootstrap_support_parents</td>\n",
       "      <td>0.002759</td>\n",
       "    </tr>\n",
       "    <tr>\n",
       "      <th>16</th>\n",
       "      <td>branch_length_ratio_split</td>\n",
       "      <td>0.002714</td>\n",
       "    </tr>\n",
       "    <tr>\n",
       "      <th>17</th>\n",
       "      <td>mean_closeness_centrality_ratio</td>\n",
       "      <td>0.002607</td>\n",
       "    </tr>\n",
       "    <tr>\n",
       "      <th>18</th>\n",
       "      <td>min_pars_bootstrap_support_children_w</td>\n",
       "      <td>0.002586</td>\n",
       "    </tr>\n",
       "    <tr>\n",
       "      <th>19</th>\n",
       "      <td>mean_pars_support_children_weighted</td>\n",
       "      <td>0.002356</td>\n",
       "    </tr>\n",
       "    <tr>\n",
       "      <th>20</th>\n",
       "      <td>max_pars_bootstrap_support_children_w</td>\n",
       "      <td>0.001829</td>\n",
       "    </tr>\n",
       "    <tr>\n",
       "      <th>21</th>\n",
       "      <td>min_pars_support_children</td>\n",
       "      <td>0.001649</td>\n",
       "    </tr>\n",
       "    <tr>\n",
       "      <th>22</th>\n",
       "      <td>std_pars_bootstrap_support_children</td>\n",
       "      <td>0.001646</td>\n",
       "    </tr>\n",
       "    <tr>\n",
       "      <th>23</th>\n",
       "      <td>max_pars_support_children_weighted</td>\n",
       "      <td>0.001611</td>\n",
       "    </tr>\n",
       "    <tr>\n",
       "      <th>24</th>\n",
       "      <td>std_pars_support_children</td>\n",
       "      <td>0.001529</td>\n",
       "    </tr>\n",
       "  </tbody>\n",
       "</table>\n",
       "</div>"
      ]
     },
     "execution_count": 6,
     "metadata": {},
     "output_type": "execute_result"
    }
   ],
   "execution_count": 6
  },
  {
   "metadata": {
    "ExecuteTime": {
     "end_time": "2024-04-09T20:52:02.824541Z",
     "start_time": "2024-04-09T20:52:02.697877Z"
    }
   },
   "cell_type": "code",
   "source": [
    "plt.plot(data_df[\"ufboot_value\"], data_df[\"mpboot_value\"], 'bo')\n",
    "plt.plot([0, 0],\n",
    "             [1, 1], 'r--', label='x=y')\n",
    "plt.title(\n",
    "        f'UFBoot vs MPBoot',)\n",
    "plt.xlabel('UFBOOT value')\n",
    "plt.ylabel('MPBOOT value')\n",
    "plt.show()"
   ],
   "id": "405cd58ed95f28c",
   "outputs": [
    {
     "data": {
      "text/plain": [
       "<Figure size 640x480 with 1 Axes>"
      ],
      "image/png": "[encoded data removed]"
     },
     "metadata": {},
     "output_type": "display_data"
    }
   ],
   "execution_count": 7
  },
  {
   "metadata": {
    "ExecuteTime": {
     "end_time": "2024-04-09T20:52:38.993432Z",
     "start_time": "2024-04-09T20:52:38.874733Z"
    }
   },
   "cell_type": "code",
   "source": [
    "plt.plot(data_df[\"ufboot_value\"], data_df[\"parsimony_support\"], 'bo')\n",
    "plt.plot([0, 0],\n",
    "             [1, 1], 'r--', label='x=y')\n",
    "plt.title(\n",
    "        f'UFBoot vs MPBoot',)\n",
    "plt.xlabel('UFBOOT value')\n",
    "plt.ylabel('MPBOOT value')\n",
    "plt.show()"
   ],
   "id": "94286e80549003e1",
   "outputs": [
    {
     "data": {
      "text/plain": [
       "<Figure size 640x480 with 1 Axes>"
      ],
      "image/png": "[encoded data removed]"
     },
     "metadata": {},
     "output_type": "display_data"
    }
   ],
   "execution_count": 8
  },
  {
   "metadata": {
    "ExecuteTime": {
     "end_time": "2024-04-09T20:56:01.064204Z",
     "start_time": "2024-04-09T20:56:00.782807Z"
    }
   },
   "cell_type": "code",
   "source": "from scipy.stats import pearsonr",
   "id": "c821316c10093e72",
   "outputs": [],
   "execution_count": 9
  },
  {
   "metadata": {
    "ExecuteTime": {
     "end_time": "2024-04-09T20:56:31.714710Z",
     "start_time": "2024-04-09T20:56:31.710922Z"
    }
   },
   "cell_type": "code",
   "source": "pearsonr(data_df[\"ufboot_value\"], data_df[\"parsimony_support\"])",
   "id": "538fd50b2985b2ea",
   "outputs": [
    {
     "data": {
      "text/plain": [
       "PearsonRResult(statistic=0.7884133865589739, pvalue=0.0)"
      ]
     },
     "execution_count": 10,
     "metadata": {},
     "output_type": "execute_result"
    }
   ],
   "execution_count": 10
  },
  {
   "metadata": {
    "ExecuteTime": {
     "end_time": "2024-04-09T20:56:57.379420Z",
     "start_time": "2024-04-09T20:56:57.376031Z"
    }
   },
   "cell_type": "code",
   "source": "pearsonr(data_df[\"ufboot_value\"], data_df[\"parsimony_bootstrap_support\"])",
   "id": "90234b3f6ebbc2e9",
   "outputs": [
    {
     "data": {
      "text/plain": [
       "PearsonRResult(statistic=0.741766533385219, pvalue=0.0)"
      ]
     },
     "execution_count": 11,
     "metadata": {},
     "output_type": "execute_result"
    }
   ],
   "execution_count": 11
  },
  {
   "metadata": {
    "ExecuteTime": {
     "end_time": "2024-04-09T20:57:15.124077Z",
     "start_time": "2024-04-09T20:57:15.120871Z"
    }
   },
   "cell_type": "code",
   "source": "pearsonr(data_df[\"ufboot_value\"], data_df[\"mpboot_value\"])",
   "id": "5cc0f6f5c085994b",
   "outputs": [
    {
     "data": {
      "text/plain": [
       "PearsonRResult(statistic=0.8010981706720881, pvalue=0.0)"
      ]
     },
     "execution_count": 12,
     "metadata": {},
     "output_type": "execute_result"
    }
   ],
   "execution_count": 12
  },
  {
   "metadata": {
    "ExecuteTime": {
     "end_time": "2024-04-09T21:02:35.308287Z",
     "start_time": "2024-04-09T21:02:35.304708Z"
    }
   },
   "cell_type": "code",
   "source": "pearsonr(data_df[\"ufboot_value\"], data_df[\"support\"])",
   "id": "62eacfd1a86d257d",
   "outputs": [
    {
     "data": {
      "text/plain": [
       "PearsonRResult(statistic=0.8468569807549282, pvalue=0.0)"
      ]
     },
     "execution_count": 13,
     "metadata": {},
     "output_type": "execute_result"
    }
   ],
   "execution_count": 13
  },
  {
   "metadata": {
    "ExecuteTime": {
     "end_time": "2024-04-09T21:02:56.931497Z",
     "start_time": "2024-04-09T21:02:56.928161Z"
    }
   },
   "cell_type": "code",
   "source": "pearsonr(data_df[\"support\"], data_df[\"parsimony_support\"])",
   "id": "fdc56b2e5d1ecde",
   "outputs": [
    {
     "data": {
      "text/plain": [
       "PearsonRResult(statistic=0.882734562294657, pvalue=0.0)"
      ]
     },
     "execution_count": 14,
     "metadata": {},
     "output_type": "execute_result"
    }
   ],
   "execution_count": 14
  },
  {
   "metadata": {
    "ExecuteTime": {
     "end_time": "2024-04-09T21:03:43.506782Z",
     "start_time": "2024-04-09T21:03:43.502510Z"
    }
   },
   "cell_type": "code",
   "source": "pearsonr(data_df[\"support\"], data_df[\"parsimony_bootstrap_support\"])",
   "id": "b7e77f1551d155b2",
   "outputs": [
    {
     "data": {
      "text/plain": [
       "PearsonRResult(statistic=0.8963585915134767, pvalue=0.0)"
      ]
     },
     "execution_count": 15,
     "metadata": {},
     "output_type": "execute_result"
    }
   ],
   "execution_count": 15
  },
  {
   "metadata": {
    "ExecuteTime": {
     "end_time": "2024-04-09T21:04:07.767863Z",
     "start_time": "2024-04-09T21:04:07.763951Z"
    }
   },
   "cell_type": "code",
   "source": "pearsonr(data_df[\"support\"], data_df[\"mpboot_value\"])",
   "id": "a7683c379bdaaf5f",
   "outputs": [
    {
     "data": {
      "text/plain": [
       "PearsonRResult(statistic=0.8547238665368068, pvalue=0.0)"
      ]
     },
     "execution_count": 16,
     "metadata": {},
     "output_type": "execute_result"
    }
   ],
   "execution_count": 16
  },
  {
   "metadata": {},
   "cell_type": "code",
   "outputs": [],
   "execution_count": null,
   "source": "",
   "id": "f970056fe158b04f"
  }
 ],
 "metadata": {
  "kernelspec": {
   "display_name": "Python 3",
   "language": "python",
   "name": "python3"
  },
  "language_info": {
   "codemirror_mode": {
    "name": "ipython",
    "version": 2
   },
   "file_extension": ".py",
   "mimetype": "text/x-python",
   "name": "python",
   "nbconvert_exporter": "python",
   "pygments_lexer": "ipython2",
   "version": "2.7.6"
  }
 },
 "nbformat": 4,
 "nbformat_minor": 5
}
